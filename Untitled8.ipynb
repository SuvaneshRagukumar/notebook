{
 "cells": [
  {
   "cell_type": "code",
   "execution_count": 15,
   "id": "0b55c634",
   "metadata": {},
   "outputs": [
    {
     "name": "stdout",
     "output_type": "stream",
     "text": [
      "test@gmail.com\n",
      "YES\n"
     ]
    }
   ],
   "source": [
    "a=input()\n",
    "if ('@' in a):\n",
    "    for i in range(len(a)):\n",
    "        if(a[i-1] in '.com'):\n",
    "            print(\"YES\")\n",
    "            break\n",
    "        else:\n",
    "            print(\"NO\")\n",
    "            break"
   ]
  },
  {
   "cell_type": "code",
   "execution_count": null,
   "id": "7094f1e2",
   "metadata": {},
   "outputs": [],
   "source": [
    "1)@ should be present;\n",
    "                2)@ & . should not be repeated;\n",
    "                3)there should be atleast four characters between @ and .;\n",
    "                4)there should be at-least 3 characters before @ ;\n",
    "                5)the end of mail id should be .com; If its a valid email id print 'YES' else print 'NO'."
   ]
  },
  {
   "cell_type": "code",
   "execution_count": 94,
   "id": "256d5062",
   "metadata": {},
   "outputs": [
    {
     "name": "stdout",
     "output_type": "stream",
     "text": [
      "suvanesh@gmai.com\n",
      "YES\n"
     ]
    }
   ],
   "source": [
    "import re\n",
    "regex = r'\\b[A-Za-z0-9._%+-]+@[A-Za-z0-9.-]+\\.[A-Z|a-z]{2,}\\b'\n",
    "def check(email):\n",
    "\tif(re.fullmatch(regex, email)):\n",
    "\t\tprint(\"YES\")\n",
    "\telse:\n",
    "\t\tprint(\"NO\")\n",
    "if __name__ == '__main__':\n",
    "\temail =input()\n",
    "\tcheck(email)\n"
   ]
  },
  {
   "cell_type": "code",
   "execution_count": 89,
   "id": "52e2bd9d",
   "metadata": {},
   "outputs": [
    {
     "name": "stdout",
     "output_type": "stream",
     "text": [
      "7\n",
      "3\n",
      "1 2 3 4 5 6 7\n",
      "['5', '6', '7'] ['1', '2', '3', '4']\n"
     ]
    }
   ],
   "source": [
    "a=int(input())\n",
    "b=int(input())\n",
    "c=input().split()\n",
    "d=[]\n",
    "d.append(c[a-b:])\n",
    "d.append(c[:a-b])\n",
    "e=\" \".join(list(map(str,(list(map(str,d))))))\n",
    "print(\"\".join(map(str,e)))"
   ]
  },
  {
   "cell_type": "code",
   "execution_count": 87,
   "id": "59025ce9",
   "metadata": {},
   "outputs": [
    {
     "name": "stdout",
     "output_type": "stream",
     "text": [
      "7\n",
      "4\n",
      "1 2 3 4 5 6 7 \n",
      "4 5 6 7 1 2 3 4\n"
     ]
    }
   ],
   "source": [
    "n=int(input())\n",
    "k=int(input())\n",
    "l1=[int(i) for i in input().split()]\n",
    "l2=[]\n",
    "for i in range(k-1,len(l1)):\n",
    "    l2.append(l1[i])\n",
    "for i in range(0,k):\n",
    "    l2.append(l1[i])\n",
    "print(*l2)"
   ]
  },
  {
   "cell_type": "code",
   "execution_count": null,
   "id": "656845f8",
   "metadata": {},
   "outputs": [],
   "source": [
    "a=int(input())\n",
    "b=int(input())\n",
    "c=input().split()\n",
    "d=[]\n",
    "d.append(c[a-b:])\n",
    "d.append(c[:a-b])\n",
    "print(\" \".join(list(map(str,d))))"
   ]
  },
  {
   "cell_type": "code",
   "execution_count": 78,
   "id": "09fc00c2",
   "metadata": {},
   "outputs": [
    {
     "name": "stdout",
     "output_type": "stream",
     "text": [
      "vada 2 coffee 1\n"
     ]
    },
    {
     "ename": "TypeError",
     "evalue": "unsupported operand type(s) for +: 'int' and 'list'",
     "output_type": "error",
     "traceback": [
      "\u001b[0;31m---------------------------------------------------------------------------\u001b[0m",
      "\u001b[0;31mTypeError\u001b[0m                                 Traceback (most recent call last)",
      "\u001b[0;32m/var/folders/7k/sc3lh9xn41n5c6p65w91_z240000gp/T/ipykernel_8473/4208223443.py\u001b[0m in \u001b[0;36m<module>\u001b[0;34m\u001b[0m\n\u001b[1;32m      6\u001b[0m \u001b[0msum\u001b[0m\u001b[0;34m=\u001b[0m\u001b[0;36m0\u001b[0m\u001b[0;34m\u001b[0m\u001b[0;34m\u001b[0m\u001b[0m\n\u001b[1;32m      7\u001b[0m \u001b[0;32mfor\u001b[0m \u001b[0mj\u001b[0m \u001b[0;32min\u001b[0m \u001b[0mrange\u001b[0m\u001b[0;34m(\u001b[0m\u001b[0mlen\u001b[0m\u001b[0;34m(\u001b[0m\u001b[0mb\u001b[0m\u001b[0;34m)\u001b[0m\u001b[0;34m)\u001b[0m\u001b[0;34m:\u001b[0m\u001b[0;34m\u001b[0m\u001b[0;34m\u001b[0m\u001b[0m\n\u001b[0;32m----> 8\u001b[0;31m     \u001b[0msum\u001b[0m\u001b[0;34m=\u001b[0m\u001b[0msum\u001b[0m\u001b[0;34m+\u001b[0m\u001b[0mb\u001b[0m\u001b[0;34m[\u001b[0m\u001b[0mj\u001b[0m\u001b[0;34m]\u001b[0m\u001b[0;34m+\u001b[0m\u001b[0;36m0.5\u001b[0m\u001b[0;34m\u001b[0m\u001b[0;34m\u001b[0m\u001b[0m\n\u001b[0m\u001b[1;32m      9\u001b[0m \u001b[0;32mfor\u001b[0m \u001b[0mi\u001b[0m \u001b[0;32min\u001b[0m \u001b[0ma\u001b[0m\u001b[0;34m:\u001b[0m\u001b[0;34m\u001b[0m\u001b[0;34m\u001b[0m\u001b[0m\n\u001b[1;32m     10\u001b[0m     \u001b[0;32mif\u001b[0m\u001b[0;34m(\u001b[0m\u001b[0ma\u001b[0m\u001b[0;34m[\u001b[0m\u001b[0mi\u001b[0m\u001b[0;34m]\u001b[0m \u001b[0;32min\u001b[0m \u001b[0mc\u001b[0m\u001b[0;34m)\u001b[0m\u001b[0;34m:\u001b[0m\u001b[0;34m\u001b[0m\u001b[0;34m\u001b[0m\u001b[0m\n",
      "\u001b[0;31mTypeError\u001b[0m: unsupported operand type(s) for +: 'int' and 'list'"
     ]
    }
   ],
   "source": [
    "a=input().split()\n",
    "b=[]\n",
    "c=\"oniondosa plaindosa ravadosa idli vada poori chapathi pongal tea coffee meals\"\n",
    "if(i%2==0):\n",
    "        b.append(a)\n",
    "sum=0\n",
    "for j in range(len(b)):\n",
    "    sum=sum+b[j]+0.5\n",
    "for i in a:\n",
    "    if(a[i] in c):\n",
    "        print(\"Total Price(GST inclusive):Rs\",sum)\n",
    "    else:\n",
    "        print(\"Sorry,Only recipes as shown below\")\n",
    "    \n",
    "        "
   ]
  },
  {
   "cell_type": "code",
   "execution_count": 90,
   "id": "0d4718d5",
   "metadata": {},
   "outputs": [
    {
     "name": "stdout",
     "output_type": "stream",
     "text": [
      "Object `code` not found.\n",
      "1\n"
     ]
    }
   ],
   "source": [
    "What will be the output of the following code?\n",
    "\n",
    "import pandas as pd\n",
    "\n",
    "import numpy as np\n",
    "\n",
    "s = pd.Series(np.random.randn(4))\n",
    "\n",
    "print(s.ndim)\n"
   ]
  },
  {
   "cell_type": "code",
   "execution_count": 91,
   "id": "fd8c326c",
   "metadata": {},
   "outputs": [
    {
     "name": "stdout",
     "output_type": "stream",
     "text": [
      "2\n"
     ]
    }
   ],
   "source": [
    "import pandas as pd\n",
    "\n",
    "import numpy as np\n",
    "\n",
    "s = pd.Series(np.random.randn(2))\n",
    "\n",
    "print(s.size)\n",
    "\n",
    "\n"
   ]
  },
  {
   "cell_type": "code",
   "execution_count": 92,
   "id": "6d9d79f1",
   "metadata": {},
   "outputs": [
    {
     "ename": "SyntaxError",
     "evalue": "invalid syntax (3937151709.py, line 1)",
     "output_type": "error",
     "traceback": [
      "\u001b[0;36m  File \u001b[0;32m\"/var/folders/7k/sc3lh9xn41n5c6p65w91_z240000gp/T/ipykernel_8473/3937151709.py\"\u001b[0;36m, line \u001b[0;32m1\u001b[0m\n\u001b[0;31m    mport numpy as np\u001b[0m\n\u001b[0m          ^\u001b[0m\n\u001b[0;31mSyntaxError\u001b[0m\u001b[0;31m:\u001b[0m invalid syntax\n"
     ]
    }
   ],
   "source": [
    "mport numpy as np\n",
    "\n",
    "ary = np.array([1,2,3,5,8])\n",
    "\n",
    "ary = ary + 1\n",
    "\n",
    "print (ary[1])"
   ]
  },
  {
   "cell_type": "code",
   "execution_count": 93,
   "id": "029e5f9e",
   "metadata": {},
   "outputs": [
    {
     "name": "stdout",
     "output_type": "stream",
     "text": [
      "5\n"
     ]
    }
   ],
   "source": [
    "import numpy as np\n",
    "\n",
    "a = np.array([[1,2,3],[0,1,4]])\n",
    "\n",
    "b = np.zeros((2,3), dtype=np.int16)\n",
    "\n",
    "c = np.ones((2,3), dtype=np.int16)\n",
    "\n",
    "d = a + b + c\n",
    "\n",
    "print (d[1,2] )"
   ]
  },
  {
   "cell_type": "code",
   "execution_count": 99,
   "id": "1629ea62",
   "metadata": {},
   "outputs": [
    {
     "name": "stdout",
     "output_type": "stream",
     "text": [
      "6\n",
      "6 7 4 3 5 2\n",
      "[7, 4, 5, 2]\n"
     ]
    }
   ],
   "source": [
    "a=int(input())\n",
    "b=list(map(int,input().split()))\n",
    "b.append(1)\n",
    "c=[]\n",
    "for i in range(len(b)-1):\n",
    "    if(b[i]>b[i+1]):\n",
    "        c.append(b[i])\n",
    "        break\n",
    "    iprint(c)"
   ]
  },
  {
   "cell_type": "code",
   "execution_count": 102,
   "id": "8bc2bd0f",
   "metadata": {},
   "outputs": [
    {
     "name": "stdout",
     "output_type": "stream",
     "text": [
      "6\n",
      "6 7 4 3 5 2\n",
      "7 5 5 5 2 0 "
     ]
    }
   ],
   "source": [
    "def nextGreatest(arr):\n",
    "\tsize = len(arr)\n",
    "\tmax_from_right = arr[size-1]\n",
    "\tarr[size-1] = 0\n",
    "\tfor i in range(size-2,-1,-1):\n",
    "\t\ttemp = arr[i]\n",
    "\t\tarr[i]=max_from_right\n",
    "\t\tif max_from_right< temp:\n",
    "\t\t\tmax_from_right=temp\n",
    "def printArray(arr):\n",
    "\tfor i in range(0,len(arr)):\n",
    "\t\tprint (arr[i],end=\" \")\n",
    "a=int(input())\n",
    "arr =list(map(int,input().split()))\n",
    "nextGreatest(arr)\n",
    "printArray(arr)\n"
   ]
  },
  {
   "cell_type": "code",
   "execution_count": 106,
   "id": "f0e88419",
   "metadata": {},
   "outputs": [
    {
     "name": "stdout",
     "output_type": "stream",
     "text": [
      "5\n",
      "1 2 2 1 3\n",
      "2\n"
     ]
    }
   ],
   "source": [
    "def length(arr, n) :\n",
    "\tm = 1\n",
    "\tl = 1\n",
    "\tfor i in range(1, n) :\n",
    "\t\tif (arr[i] > arr[i-1]) :\n",
    "\t\t\tl =l + 1\n",
    "\t\telse :\n",
    "\t\t\tif (m < l) :\n",
    "\t\t\t\tm = l\n",
    "\t\t\tl = 1\n",
    "\tif (m < l) :\n",
    "\t\tm = l\n",
    "\treturn m\n",
    "a=int(input())\n",
    "arr = list(map(int,input().split()))\n",
    "n = len(arr)\n",
    "print(length(arr, n))\n"
   ]
  },
  {
   "cell_type": "code",
   "execution_count": 115,
   "id": "540bc0e4",
   "metadata": {},
   "outputs": [
    {
     "name": "stdout",
     "output_type": "stream",
     "text": [
      "ghggcf@gcj.com\n"
     ]
    },
    {
     "ename": "TypeError",
     "evalue": "'>=' not supported between instances of 'int' and 'str'",
     "output_type": "error",
     "traceback": [
      "\u001b[0;31m---------------------------------------------------------------------------\u001b[0m",
      "\u001b[0;31mTypeError\u001b[0m                                 Traceback (most recent call last)",
      "\u001b[0;32m/var/folders/7k/sc3lh9xn41n5c6p65w91_z240000gp/T/ipykernel_8473/2731177680.py\u001b[0m in \u001b[0;36m<module>\u001b[0;34m\u001b[0m\n\u001b[1;32m     10\u001b[0m             \u001b[0ml1\u001b[0m\u001b[0;34m.\u001b[0m\u001b[0mappend\u001b[0m\u001b[0;34m(\u001b[0m\u001b[0mi\u001b[0m\u001b[0;34m)\u001b[0m\u001b[0;34m\u001b[0m\u001b[0;34m\u001b[0m\u001b[0m\n\u001b[1;32m     11\u001b[0m     \u001b[0;32mif\u001b[0m\u001b[0;34m(\u001b[0m\u001b[0ms\u001b[0m\u001b[0;34m[\u001b[0m\u001b[0mc\u001b[0m\u001b[0;34m:\u001b[0m\u001b[0mlen\u001b[0m\u001b[0;34m(\u001b[0m\u001b[0ms\u001b[0m\u001b[0;34m)\u001b[0m\u001b[0;34m]\u001b[0m\u001b[0;34m==\u001b[0m\u001b[0;34m\".com\"\u001b[0m\u001b[0;34m)\u001b[0m\u001b[0;34m:\u001b[0m\u001b[0;34m\u001b[0m\u001b[0;34m\u001b[0m\u001b[0m\n\u001b[0;32m---> 12\u001b[0;31m         \u001b[0;32mif\u001b[0m\u001b[0;34m(\u001b[0m\u001b[0mlen\u001b[0m\u001b[0;34m(\u001b[0m\u001b[0ml1\u001b[0m\u001b[0;34m)\u001b[0m\u001b[0;34m>=\u001b[0m\u001b[0ms\u001b[0m\u001b[0;34m)\u001b[0m\u001b[0;34m:\u001b[0m\u001b[0;34m\u001b[0m\u001b[0;34m\u001b[0m\u001b[0m\n\u001b[0m\u001b[1;32m     13\u001b[0m             \u001b[0mprint\u001b[0m\u001b[0;34m(\u001b[0m\u001b[0;34m\"YES\"\u001b[0m\u001b[0;34m)\u001b[0m\u001b[0;34m\u001b[0m\u001b[0;34m\u001b[0m\u001b[0m\n\u001b[1;32m     14\u001b[0m         \u001b[0;32melse\u001b[0m\u001b[0;34m:\u001b[0m\u001b[0;34m\u001b[0m\u001b[0;34m\u001b[0m\u001b[0m\n",
      "\u001b[0;31mTypeError\u001b[0m: '>=' not supported between instances of 'int' and 'str'"
     ]
    }
   ],
   "source": [
    "s=input()\n",
    "l1=[]\n",
    "l2=[]\n",
    "c=len(s)-4\n",
    "if(s.count(\"@\")==1):\n",
    "    for i in s:\n",
    "        if(i==\"@\"):\n",
    "            break\n",
    "        else:\n",
    "            l1.append(i)\n",
    "    if(s[c:len(s)]==\".com\"):\n",
    "        if(len(l1)>=s):\n",
    "            print(\"YES\")\n",
    "        else:\n",
    "            print(\"NO\")\n",
    "    else:\n",
    "        print(\"NO\")\n",
    "else:\n",
    "    print(\"NO\")"
   ]
  },
  {
   "cell_type": "code",
   "execution_count": 114,
   "id": "0f03f714",
   "metadata": {},
   "outputs": [
    {
     "name": "stdout",
     "output_type": "stream",
     "text": [
      "suvanesh@gmail.com\n",
      "NO\n"
     ]
    }
   ],
   "source": [
    "a=input()\n",
    "b=len(a)\n",
    "for i in range(b):\n",
    "    if(\"@\" in a[i] and \".com\"in a[i-1]):\n",
    "        print(\"YES\")\n",
    "        break\n",
    "    else:\n",
    "        print(\"NO\")\n",
    "        break"
   ]
  },
  {
   "cell_type": "code",
   "execution_count": null,
   "id": "6341ef03",
   "metadata": {},
   "outputs": [],
   "source": [
    "import re\n",
    "regex = r'\\b[A-Za-z0-9._%+-]+@[A-Za-z0-9.-]+\\.[A-Z|a-z]{2,}\\b'\n",
    "def check(email):\n",
    "\tif(re.fullmatch(regex, email)):\n",
    "\t\tprint(\"YES\")\n",
    "\telse:\n",
    "\t\tprint(\"NO\")\n",
    "if __name__ == '__main__':\n",
    "\temail =input()\n",
    "\tcheck(email)\n",
    "\n",
    "\n",
    "\n"
   ]
  },
  {
   "cell_type": "code",
   "execution_count": 133,
   "id": "34dc6b4a",
   "metadata": {},
   "outputs": [
    {
     "name": "stdout",
     "output_type": "stream",
     "text": [
      "suvanesh@gmail.com\n",
      "NO\n"
     ]
    }
   ],
   "source": [
    "a=input()\n",
    "b=len(a)\n",
    "for i in range(b):\n",
    "    if not \"@\" in email:\n",
    "        if not (\".com\" or \".org\" or \".edu\" or \".gov\" or \".net\") in email[-4:]:\n",
    "            print(\"YES\")\n",
    "            break\n",
    "    else:\n",
    "        print(\"NO\")\n",
    "        break"
   ]
  },
  {
   "cell_type": "code",
   "execution_count": 145,
   "id": "f19dcd0e",
   "metadata": {},
   "outputs": [
    {
     "name": "stdout",
     "output_type": "stream",
     "text": [
      "aaaaa@ssss.com\n",
      "NO\n"
     ]
    }
   ],
   "source": [
    "a=input()\n",
    "c=a.index('.')-a.index('@')\n",
    "#print(c)\n",
    "if(a[0:3].isalnum() and a.count('@')==1 and a.count('&')<=1 and a.count('.')==1 and c>4 and '.com' in a[-4:] and '@' in a[-3:]):\n",
    "    print(\"YES\")\n",
    "else:\n",
    "    print(\"NO\")"
   ]
  },
  {
   "cell_type": "code",
   "execution_count": 153,
   "id": "d3830fb2",
   "metadata": {},
   "outputs": [
    {
     "name": "stdout",
     "output_type": "stream",
     "text": [
      "suvanesh@gmail.com\n",
      "NO\n"
     ]
    }
   ],
   "source": [
    "a=input()\n",
    "d=a.index('@')\n",
    "c=a.index('.')-a.index('@')\n",
    "#print(c)\n",
    "if(a[0:3].isalnum() and a.count('@')==1 and a.count('&')<=1 and a.count('.')==1 and c>4 and '.com' in a[-4:] and '@' in a[-8:] and '@' in a[0]>d):\n",
    "    print(\"YES\")\n",
    "else:\n",
    "    print(\"NO\")"
   ]
  },
  {
   "cell_type": "code",
   "execution_count": null,
   "id": "cf9ca4eb",
   "metadata": {},
   "outputs": [],
   "source": []
  },
  {
   "cell_type": "code",
   "execution_count": null,
   "id": "c9de5e40",
   "metadata": {},
   "outputs": [],
   "source": []
  }
 ],
 "metadata": {
  "kernelspec": {
   "display_name": "Python 3 (ipykernel)",
   "language": "python",
   "name": "python3"
  },
  "language_info": {
   "codemirror_mode": {
    "name": "ipython",
    "version": 3
   },
   "file_extension": ".py",
   "mimetype": "text/x-python",
   "name": "python",
   "nbconvert_exporter": "python",
   "pygments_lexer": "ipython3",
   "version": "3.9.7"
  }
 },
 "nbformat": 4,
 "nbformat_minor": 5
}
