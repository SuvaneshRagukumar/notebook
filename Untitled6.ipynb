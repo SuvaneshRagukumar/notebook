{
 "cells": [
  {
   "cell_type": "code",
   "execution_count": 16,
   "id": "49900c4c",
   "metadata": {},
   "outputs": [
    {
     "data": {
      "text/html": [
       "<div>\n",
       "<style scoped>\n",
       "    .dataframe tbody tr th:only-of-type {\n",
       "        vertical-align: middle;\n",
       "    }\n",
       "\n",
       "    .dataframe tbody tr th {\n",
       "        vertical-align: top;\n",
       "    }\n",
       "\n",
       "    .dataframe thead th {\n",
       "        text-align: right;\n",
       "    }\n",
       "</style>\n",
       "<table border=\"1\" class=\"dataframe\">\n",
       "  <thead>\n",
       "    <tr style=\"text-align: right;\">\n",
       "      <th></th>\n",
       "      <th>Street</th>\n",
       "      <th>City</th>\n",
       "      <th>State</th>\n",
       "      <th>Pincode</th>\n",
       "    </tr>\n",
       "    <tr>\n",
       "      <th>Company Name</th>\n",
       "      <th></th>\n",
       "      <th></th>\n",
       "      <th></th>\n",
       "      <th></th>\n",
       "    </tr>\n",
       "  </thead>\n",
       "  <tbody>\n",
       "    <tr>\n",
       "      <th>Agilisium Consulting LLC</th>\n",
       "      <td>2629 Townsgate Rd Suite 235</td>\n",
       "      <td>Westlake Village</td>\n",
       "      <td>CA</td>\n",
       "      <td>91361</td>\n",
       "    </tr>\n",
       "    <tr>\n",
       "      <th>Agilisium Consulting India Private Limited</th>\n",
       "      <td>5/142 Rajiv Gandhi Salai Perungudi</td>\n",
       "      <td>Chennai</td>\n",
       "      <td>TN</td>\n",
       "      <td>600096</td>\n",
       "    </tr>\n",
       "  </tbody>\n",
       "</table>\n",
       "</div>"
      ],
      "text/plain": [
       "                                                                         Street  \\\n",
       "Company Name                                                                      \n",
       "Agilisium Consulting LLC                            2629 Townsgate Rd Suite 235   \n",
       "Agilisium Consulting India Private Limited   5/142 Rajiv Gandhi Salai Perungudi   \n",
       "\n",
       "                                                         City State  Pincode  \n",
       "Company Name                                                                  \n",
       "Agilisium Consulting LLC                     Westlake Village    CA    91361  \n",
       "Agilisium Consulting India Private Limited            Chennai    TN   600096  "
      ]
     },
     "execution_count": 16,
     "metadata": {},
     "output_type": "execute_result"
    }
   ],
   "source": [
    "import pandas as pd\n",
    "df=pd.read_csv(r\"Agilisium.csv\",names=['Company Name','Street','City','State','Pincode'],index_col=0)\n",
    "df"
   ]
  },
  {
   "cell_type": "code",
   "execution_count": 18,
   "id": "eceb7a91",
   "metadata": {},
   "outputs": [
    {
     "data": {
      "text/html": [
       "<div>\n",
       "<style scoped>\n",
       "    .dataframe tbody tr th:only-of-type {\n",
       "        vertical-align: middle;\n",
       "    }\n",
       "\n",
       "    .dataframe tbody tr th {\n",
       "        vertical-align: top;\n",
       "    }\n",
       "\n",
       "    .dataframe thead th {\n",
       "        text-align: right;\n",
       "    }\n",
       "</style>\n",
       "<table border=\"1\" class=\"dataframe\">\n",
       "  <thead>\n",
       "    <tr style=\"text-align: right;\">\n",
       "      <th></th>\n",
       "      <th>Company Name</th>\n",
       "      <th>StreetName</th>\n",
       "      <th>City</th>\n",
       "      <th>State</th>\n",
       "      <th>Pincode</th>\n",
       "    </tr>\n",
       "  </thead>\n",
       "  <tbody>\n",
       "    <tr>\n",
       "      <th>0</th>\n",
       "      <td>agilisium consulting LLC</td>\n",
       "      <td>2629 Townsgate Rd Suite 235</td>\n",
       "      <td>Westlake Village</td>\n",
       "      <td>CA</td>\n",
       "      <td>91361</td>\n",
       "    </tr>\n",
       "    <tr>\n",
       "      <th>1</th>\n",
       "      <td>Agilisium Consulting India Private Limited</td>\n",
       "      <td>5/142 Rajiv Gandhi Salai Perungudi</td>\n",
       "      <td>Chennai</td>\n",
       "      <td>TN</td>\n",
       "      <td>600096</td>\n",
       "    </tr>\n",
       "  </tbody>\n",
       "</table>\n",
       "</div>"
      ],
      "text/plain": [
       "                                 Company Name  \\\n",
       "0                    agilisium consulting LLC   \n",
       "1  Agilisium Consulting India Private Limited   \n",
       "\n",
       "                           StreetName              City State  Pincode  \n",
       "0         2629 Townsgate Rd Suite 235  Westlake Village    CA    91361  \n",
       "1  5/142 Rajiv Gandhi Salai Perungudi           Chennai    TN   600096  "
      ]
     },
     "execution_count": 18,
     "metadata": {},
     "output_type": "execute_result"
    }
   ],
   "source": [
    "data={\n",
    "    'Company Name':['agilisium consulting LLC','Agilisium Consulting India Private Limited'],\n",
    "    'StreetName':['2629 Townsgate Rd Suite 235','5/142 Rajiv Gandhi Salai Perungudi'] ,\n",
    "    'City':['Westlake Village','Chennai'],\n",
    "    'State':['CA','TN'],\n",
    "    'Pincode':[91361,600096]\n",
    "}\n",
    "df=pd.DataFrame(data)\n",
    "df"
   ]
  },
  {
   "cell_type": "code",
   "execution_count": null,
   "id": "6c83b280",
   "metadata": {},
   "outputs": [],
   "source": []
  }
 ],
 "metadata": {
  "kernelspec": {
   "display_name": "Python 3 (ipykernel)",
   "language": "python",
   "name": "python3"
  },
  "language_info": {
   "codemirror_mode": {
    "name": "ipython",
    "version": 3
   },
   "file_extension": ".py",
   "mimetype": "text/x-python",
   "name": "python",
   "nbconvert_exporter": "python",
   "pygments_lexer": "ipython3",
   "version": "3.9.7"
  }
 },
 "nbformat": 4,
 "nbformat_minor": 5
}
