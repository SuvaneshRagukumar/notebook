{
 "cells": [
  {
   "cell_type": "code",
   "execution_count": 7,
   "id": "33ee5c13",
   "metadata": {},
   "outputs": [
    {
     "name": "stdout",
     "output_type": "stream",
     "text": [
      "codekata\n"
     ]
    },
    {
     "ename": "TypeError",
     "evalue": "'str' object does not support item assignment",
     "output_type": "error",
     "traceback": [
      "\u001b[0;31m---------------------------------------------------------------------------\u001b[0m",
      "\u001b[0;31mTypeError\u001b[0m                                 Traceback (most recent call last)",
      "\u001b[0;32m/var/folders/7k/sc3lh9xn41n5c6p65w91_z240000gp/T/ipykernel_5117/984158918.py\u001b[0m in \u001b[0;36m<module>\u001b[0;34m\u001b[0m\n\u001b[1;32m      6\u001b[0m     \u001b[0;32mif\u001b[0m\u001b[0;34m(\u001b[0m\u001b[0mi\u001b[0m\u001b[0;34m%\u001b[0m\u001b[0;36m2\u001b[0m\u001b[0;34m==\u001b[0m\u001b[0;36m0\u001b[0m\u001b[0;34m)\u001b[0m\u001b[0;34m:\u001b[0m\u001b[0;34m\u001b[0m\u001b[0;34m\u001b[0m\u001b[0m\n\u001b[1;32m      7\u001b[0m         \u001b[0mt\u001b[0m\u001b[0;34m=\u001b[0m\u001b[0ma\u001b[0m\u001b[0;34m[\u001b[0m\u001b[0mi\u001b[0m\u001b[0;34m]\u001b[0m\u001b[0;34m\u001b[0m\u001b[0;34m\u001b[0m\u001b[0m\n\u001b[0;32m----> 8\u001b[0;31m         \u001b[0ma\u001b[0m\u001b[0;34m[\u001b[0m\u001b[0mi\u001b[0m\u001b[0;34m]\u001b[0m\u001b[0;34m=\u001b[0m\u001b[0ma\u001b[0m\u001b[0;34m[\u001b[0m\u001b[0mi\u001b[0m\u001b[0;34m+\u001b[0m\u001b[0;36m1\u001b[0m\u001b[0;34m]\u001b[0m\u001b[0;34m\u001b[0m\u001b[0;34m\u001b[0m\u001b[0m\n\u001b[0m\u001b[1;32m      9\u001b[0m         \u001b[0ma\u001b[0m\u001b[0;34m[\u001b[0m\u001b[0mi\u001b[0m\u001b[0;34m+\u001b[0m\u001b[0;36m1\u001b[0m\u001b[0;34m]\u001b[0m\u001b[0;34m=\u001b[0m\u001b[0mt\u001b[0m\u001b[0;34m\u001b[0m\u001b[0;34m\u001b[0m\u001b[0m\n\u001b[1;32m     10\u001b[0m         \u001b[0ma\u001b[0m\u001b[0;34m[\u001b[0m\u001b[0mi\u001b[0m\u001b[0;34m]\u001b[0m\u001b[0;34m.\u001b[0m\u001b[0mappend\u001b[0m\u001b[0;34m(\u001b[0m\u001b[0ml\u001b[0m\u001b[0;34m)\u001b[0m\u001b[0;34m\u001b[0m\u001b[0;34m\u001b[0m\u001b[0m\n",
      "\u001b[0;31mTypeError\u001b[0m: 'str' object does not support item assignment"
     ]
    }
   ],
   "source": [
    "a=input()\n",
    "b=len(a)\n",
    "t=0\n",
    "l=[]\n",
    "for i in range(0,b):\n",
    "    if(i%2==0):\n",
    "        t=a[i]\n",
    "        a[i]=a[i+1]\n",
    "        a[i+1]=t \n",
    "        a[i].append(l)\n",
    "print(l)\n",
    "        "
   ]
  },
  {
   "cell_type": "code",
   "execution_count": 9,
   "id": "3500bcae",
   "metadata": {},
   "outputs": [
    {
     "name": "stdout",
     "output_type": "stream",
     "text": [
      "ocedakat\n"
     ]
    }
   ],
   "source": [
    "x=\"codekata\"\n",
    "x2=\"\"\n",
    "for i in range(0,len(x)-1,2):\n",
    "    a=x[i]\n",
    "    b=x[i+1]\n",
    "    x2=x2+b+a\n",
    "print(x2)"
   ]
  },
  {
   "cell_type": "code",
   "execution_count": 10,
   "id": "1077fa10",
   "metadata": {},
   "outputs": [
    {
     "name": "stdout",
     "output_type": "stream",
     "text": [
      "10 5\n",
      "5\n"
     ]
    }
   ],
   "source": [
    "import math\n",
    "a,b=input().split()\n",
    "a=int(a)\n",
    "b=int(b)\n",
    "if a!= math.gcd(a,b) or b!=math.gcd(a,b):\n",
    " print(math.gcd(a,b))\n",
    "else:\n",
    "    print(-1)"
   ]
  },
  {
   "cell_type": "code",
   "execution_count": 11,
   "id": "879638b9",
   "metadata": {},
   "outputs": [
    {
     "name": "stdout",
     "output_type": "stream",
     "text": [
      "3 4 5\n",
      "Yes\n"
     ]
    }
   ],
   "source": [
    "a= list(map(int,input().split()))\n",
    "x,y,z = sorted(a)\n",
    "if x**2+y**2==z**2:\n",
    "    print('Yes')\n",
    "else:\n",
    "    print('No')"
   ]
  },
  {
   "cell_type": "code",
   "execution_count": 12,
   "id": "1f2d71ca",
   "metadata": {},
   "outputs": [
    {
     "name": "stdout",
     "output_type": "stream",
     "text": [
      "9 2\n",
      "odd\n"
     ]
    }
   ],
   "source": [
    "a,b=input().split()\n",
    "a=int(a)\n",
    "b=int(b)\n",
    "c=a+b\n",
    "if(c%2==0):\n",
    "    print(\"even\")\n",
    "else:\n",
    "    print(\"odd\")"
   ]
  },
  {
   "cell_type": "code",
   "execution_count": 20,
   "id": "42d7774b",
   "metadata": {},
   "outputs": [
    {
     "name": "stdout",
     "output_type": "stream",
     "text": [
      "48\n"
     ]
    }
   ],
   "source": [
    "import math\n",
    "n=int(input())\n",
    "r=math.sqrt(n)\n",
    "if(int(r+0.5)**2==n):\n",
    "    print(n)"
   ]
  },
  {
   "cell_type": "code",
   "execution_count": 21,
   "id": "f31d3512",
   "metadata": {},
   "outputs": [
    {
     "name": "stdout",
     "output_type": "stream",
     "text": [
      "2 4\n",
      "6\n"
     ]
    }
   ],
   "source": [
    "a, b = list(map(int,input().split()))\n",
    "\n",
    "print(a|b)"
   ]
  },
  {
   "cell_type": "code",
   "execution_count": 29,
   "id": "5719b8ee",
   "metadata": {},
   "outputs": [
    {
     "name": "stdout",
     "output_type": "stream",
     "text": [
      "3 4 5\n",
      "Scalene Triangle\n"
     ]
    }
   ],
   "source": [
    "a,b,c=input().split()\n",
    "a=int(a)\n",
    "b=int(b)\n",
    "c=int(c)\n",
    "if not((a==b==c) and (a==b or b==c or c==a)):\n",
    "    print(\"Scalene Triangle\")"
   ]
  },
  {
   "cell_type": "code",
   "execution_count": 32,
   "id": "66c054b6",
   "metadata": {},
   "outputs": [
    {
     "name": "stdout",
     "output_type": "stream",
     "text": [
      "720\n"
     ]
    }
   ],
   "source": [
    "a=6\n",
    "i=1\n",
    "s=1\n",
    "while(i<=6):\n",
    "    s=s*i\n",
    "    i=i+1\n",
    "print(s)"
   ]
  },
  {
   "cell_type": "code",
   "execution_count": 37,
   "id": "1bb5d8fe",
   "metadata": {},
   "outputs": [
    {
     "name": "stdout",
     "output_type": "stream",
     "text": [
      "720\n"
     ]
    }
   ],
   "source": [
    "a=6\n",
    "s=1\n",
    "for i in range(1,a+1):\n",
    "    s=s*i\n",
    "print(s)"
   ]
  },
  {
   "cell_type": "code",
   "execution_count": 46,
   "id": "c1807d8d",
   "metadata": {},
   "outputs": [
    {
     "name": "stdout",
     "output_type": "stream",
     "text": [
      "3 3\n",
      "23 15 16\n",
      "357 65 10\n",
      "15 16 23 357 65 10\n"
     ]
    }
   ],
   "source": [
    "a,b=input().split()\n",
    "a=int(a)\n",
    "b=int(b)\n",
    "c=list(map(int,input().split()))\n",
    "d=list(map(int,input().split()))\n",
    "r = sorted(c)+sorted(d,reverse=True)\n",
    "print(\" \".join(map(str,r)))"
   ]
  },
  {
   "cell_type": "code",
   "execution_count": 58,
   "id": "a59bdf7b",
   "metadata": {},
   "outputs": [
    {
     "name": "stdout",
     "output_type": "stream",
     "text": [
      "5 15\n",
      "50 65 85 98 35\n",
      "0 1 0 1 0\n"
     ]
    }
   ],
   "source": [
    "a,b=input().split()\n",
    "a=int(a)\n",
    "b=int(b)\n",
    "c=list(map(int,input().split()))\n",
    "c.append(35)\n",
    "res=[]\n",
    "for i in range(len(c)-1):\n",
    "    if(c[i]>c[i+1]):\n",
    "        d=c[i]-c[i+1]\n",
    "        if(d>b):\n",
    "            res.append(1)\n",
    "        else:\n",
    "            res.append(0)\n",
    "    else:\n",
    "        d=c[i+1]-c[i]\n",
    "        if(d>b):\n",
    "            res.append(1)\n",
    "        else:\n",
    "            res.append(0)\n",
    "print(\" \".join(list(map(str,res))))"
   ]
  },
  {
   "cell_type": "code",
   "execution_count": 81,
   "id": "f39312d9",
   "metadata": {},
   "outputs": [
    {
     "name": "stdout",
     "output_type": "stream",
     "text": [
      "4\n",
      "1 1 3 2\n",
      "[1]\n"
     ]
    },
    {
     "ename": "ValueError",
     "evalue": "list.remove(x): x not in list",
     "output_type": "error",
     "traceback": [
      "\u001b[0;31m---------------------------------------------------------------------------\u001b[0m",
      "\u001b[0;31mValueError\u001b[0m                                Traceback (most recent call last)",
      "\u001b[0;32m/var/folders/7k/sc3lh9xn41n5c6p65w91_z240000gp/T/ipykernel_5117/3760087903.py\u001b[0m in \u001b[0;36m<module>\u001b[0;34m\u001b[0m\n\u001b[1;32m     16\u001b[0m     \u001b[0;31m#else:\u001b[0m\u001b[0;34m\u001b[0m\u001b[0;34m\u001b[0m\u001b[0m\n\u001b[1;32m     17\u001b[0m         \u001b[0;31m#res.append(c[i+1])\u001b[0m\u001b[0;34m\u001b[0m\u001b[0;34m\u001b[0m\u001b[0m\n\u001b[0;32m---> 18\u001b[0;31m \u001b[0mh\u001b[0m\u001b[0;34m=\u001b[0m\u001b[0mb\u001b[0m\u001b[0;34m.\u001b[0m\u001b[0mremove\u001b[0m\u001b[0;34m(\u001b[0m\u001b[0mdup\u001b[0m\u001b[0;34m)\u001b[0m\u001b[0;34m\u001b[0m\u001b[0;34m\u001b[0m\u001b[0m\n\u001b[0m\u001b[1;32m     19\u001b[0m \u001b[0mprint\u001b[0m\u001b[0;34m(\u001b[0m\u001b[0mh\u001b[0m\u001b[0;34m)\u001b[0m\u001b[0;34m\u001b[0m\u001b[0;34m\u001b[0m\u001b[0m\n\u001b[1;32m     20\u001b[0m \u001b[0mprint\u001b[0m\u001b[0;34m(\u001b[0m\u001b[0;34m\" \"\u001b[0m\u001b[0;34m.\u001b[0m\u001b[0mjoin\u001b[0m\u001b[0;34m(\u001b[0m\u001b[0mlist\u001b[0m\u001b[0;34m(\u001b[0m\u001b[0mmap\u001b[0m\u001b[0;34m(\u001b[0m\u001b[0mstr\u001b[0m\u001b[0;34m,\u001b[0m\u001b[0msorted\u001b[0m\u001b[0;34m(\u001b[0m\u001b[0mc\u001b[0m\u001b[0;34m)\u001b[0m\u001b[0;34m)\u001b[0m\u001b[0;34m)\u001b[0m\u001b[0;34m)\u001b[0m\u001b[0;34m)\u001b[0m\u001b[0;34m\u001b[0m\u001b[0;34m\u001b[0m\u001b[0m\n",
      "\u001b[0;31mValueError\u001b[0m: list.remove(x): x not in list"
     ]
    }
   ],
   "source": [
    "a=int(input())\n",
    "b=list(map(int,input().split()))\n",
    "b.append(1)\n",
    "c=[]\n",
    "#res=[]\n",
    "dup=[]\n",
    "for i in range(len(b)-1):\n",
    "    if(b[i]!= b[i+1]):\n",
    "        c.append(b[i])\n",
    "    else:\n",
    "        dup.append(b[i])\n",
    "print(dup)\n",
    "#for j in range(len(c)-1):\n",
    "    #if(c[j]>c[j+1]):\n",
    "        #res.append(c[i])\n",
    "    #else:\n",
    "        #res.append(c[i+1])\n",
    "h=b.remove(dup)\n",
    "print(h)\n",
    "print(\" \".join(list(map(str,sorted(c)))))"
   ]
  },
  {
   "cell_type": "code",
   "execution_count": 86,
   "id": "342c5127",
   "metadata": {},
   "outputs": [
    {
     "name": "stdout",
     "output_type": "stream",
     "text": [
      "7\n",
      "1 1 11 121 131 141 98\n",
      "1\n"
     ]
    }
   ],
   "source": [
    "a=int(input())\n",
    "b=list(map(int,input().split()))\n",
    "c=[]\n",
    "for i in range(len(b)-1):\n",
    "    if(b[i]==b[i+1]):\n",
    "        c.append(b[i])\n",
    "print(\" \".join(list(map(str,c))))"
   ]
  },
  {
   "cell_type": "code",
   "execution_count": 102,
   "id": "6bd8fb64",
   "metadata": {},
   "outputs": [
    {
     "name": "stdout",
     "output_type": "stream",
     "text": [
      "4\n",
      "1 2 2 1\n",
      "[1, 2]\n",
      "1 2\n"
     ]
    }
   ],
   "source": [
    "a=int(input())\n",
    "b=list(map(int,input().split()))\n",
    "c=[]\n",
    "for i in range(len(b)-1):\n",
    "        if(b.count(i)>1):\n",
    "            c.append(i)\n",
    "print(c)\n",
    "print(\" \".join(list(map(str,c))))\n"
   ]
  },
  {
   "cell_type": "code",
   "execution_count": null,
   "id": "67c7fe6b",
   "metadata": {},
   "outputs": [],
   "source": [
    "a=int(input())\n",
    "b=list(map(str,input().split()))\n",
    "b.append(1)\n",
    "c=[]\n",
    "for i in range(len(b)-1):\n",
    "    if(b.count(i)>1):\n",
    "        c.append(i)\n",
    "print(\" \".join())\n",
    "#print(\" \".join(list(map(str,c))))"
   ]
  },
  {
   "cell_type": "code",
   "execution_count": 97,
   "id": "9c8d9594",
   "metadata": {},
   "outputs": [
    {
     "name": "stdout",
     "output_type": "stream",
     "text": [
      "7\n",
      "1 -2 -3 -4 5 6 -7\n",
      "3\n",
      "-2 -3 -4 -7\n"
     ]
    }
   ],
   "source": [
    "a=int(input())\n",
    "b=list(map(int,input().split()))\n",
    "b.append(1)\n",
    "c=int(input())\n",
    "d=[]\n",
    "for i in range(len(b)-1):\n",
    "    if(b[i]<0):\n",
    "        d.append(b[i])\n",
    "    #else:\n",
    "        #print(0)\n",
    "print(\" \".join(list(map(str,d))))\n",
    "        \n",
    "       "
   ]
  },
  {
   "cell_type": "code",
   "execution_count": 13,
   "id": "99446a54",
   "metadata": {},
   "outputs": [
    {
     "name": "stdout",
     "output_type": "stream",
     "text": [
      "5\n",
      "5 25 35 -5 30\n",
      "1\n"
     ]
    }
   ],
   "source": [
    "a=int(input())\n",
    "b=list(map(int,input().split()))\n",
    "b.append(1)\n",
    "sum=0\n",
    "for i in range(0,len(b)-1):\n",
    "    sum=sum+b[i]\n",
    "#print(sum)\n",
    "if(sum%2==0 and sum%3==0 and sum%5==0):\n",
    "    print(1)\n",
    "else:\n",
    "    print(0)"
   ]
  },
  {
   "cell_type": "code",
   "execution_count": 26,
   "id": "5bfac48b",
   "metadata": {},
   "outputs": [
    {
     "name": "stdout",
     "output_type": "stream",
     "text": [
      "5\n",
      "3 4 9 1 6\n",
      "1\n"
     ]
    }
   ],
   "source": [
    "a=int(input())\n",
    "b=list(map(int,input().split()))\n",
    "b.append(1)\n",
    "print(min(b))\n",
    "#for i in range(len(b)-1):\n",
    "   # print(min(b))\n",
    "    #break\n",
    "    #print(\" \".join(list(map(str,c))))"
   ]
  },
  {
   "cell_type": "code",
   "execution_count": 62,
   "id": "92098c99",
   "metadata": {},
   "outputs": [
    {
     "name": "stdout",
     "output_type": "stream",
     "text": [
      "3\n",
      "3 82 96 72\n",
      "1 3 72 82 96\n"
     ]
    }
   ],
   "source": [
    "a=int(input())\n",
    "b=list(map(int,input().split()))\n",
    "b.append(1)\n",
    "c=[]\n",
    "d=sorted(b)\n",
    "c.append(d)\n",
    "print(\" \".join(list(map(str,c[-1]))))\n",
    "#print(c)\n"
   ]
  },
  {
   "cell_type": "code",
   "execution_count": 61,
   "id": "c12f2ee8",
   "metadata": {},
   "outputs": [
    {
     "name": "stdout",
     "output_type": "stream",
     "text": [
      "5\n",
      "13 12 13 12 13\n",
      "\n"
     ]
    }
   ],
   "source": [
    "a=int(input())\n",
    "b=list(map(int,input().split()))\n",
    "c=[]\n",
    "for i in range(len(b)-1):\n",
    "        if(b.count(i)>2):\n",
    "            c.append(i)\n",
    "print(\" \".join(list(map(str,c))))"
   ]
  },
  {
   "cell_type": "code",
   "execution_count": 63,
   "id": "ff0c5588",
   "metadata": {},
   "outputs": [
    {
     "name": "stdout",
     "output_type": "stream",
     "text": [
      "7\n",
      "1 2 3 4 6 0 0\n"
     ]
    },
    {
     "ename": "TypeError",
     "evalue": "'<=' not supported between instances of 'int' and 'list'",
     "output_type": "error",
     "traceback": [
      "\u001b[0;31m---------------------------------------------------------------------------\u001b[0m",
      "\u001b[0;31mTypeError\u001b[0m                                 Traceback (most recent call last)",
      "\u001b[0;32m/var/folders/7k/sc3lh9xn41n5c6p65w91_z240000gp/T/ipykernel_52031/1829679948.py\u001b[0m in \u001b[0;36m<module>\u001b[0;34m\u001b[0m\n\u001b[1;32m      7\u001b[0m \u001b[0mk\u001b[0m\u001b[0;34m=\u001b[0m\u001b[0;36m0\u001b[0m\u001b[0;34m\u001b[0m\u001b[0;34m\u001b[0m\u001b[0m\n\u001b[1;32m      8\u001b[0m \u001b[0;32mfor\u001b[0m \u001b[0mi\u001b[0m \u001b[0;32min\u001b[0m \u001b[0mrange\u001b[0m\u001b[0;34m(\u001b[0m\u001b[0mlen\u001b[0m\u001b[0;34m(\u001b[0m\u001b[0mb\u001b[0m\u001b[0;34m)\u001b[0m\u001b[0;34m-\u001b[0m\u001b[0;36m1\u001b[0m\u001b[0;34m)\u001b[0m\u001b[0;34m:\u001b[0m\u001b[0;34m\u001b[0m\u001b[0;34m\u001b[0m\u001b[0m\n\u001b[0;32m----> 9\u001b[0;31m     \u001b[0;32mwhile\u001b[0m\u001b[0;34m(\u001b[0m\u001b[0mj\u001b[0m\u001b[0;34m<=\u001b[0m\u001b[0mb\u001b[0m\u001b[0;34m[\u001b[0m\u001b[0;36m0\u001b[0m\u001b[0;34m:\u001b[0m\u001b[0;36m2\u001b[0m\u001b[0;34m]\u001b[0m\u001b[0;34m)\u001b[0m\u001b[0;34m:\u001b[0m\u001b[0;34m\u001b[0m\u001b[0;34m\u001b[0m\u001b[0m\n\u001b[0m\u001b[1;32m     10\u001b[0m         \u001b[0msum\u001b[0m\u001b[0;34m=\u001b[0m\u001b[0msum\u001b[0m\u001b[0;34m+\u001b[0m\u001b[0mb\u001b[0m\u001b[0;34m[\u001b[0m\u001b[0mj\u001b[0m\u001b[0;34m]\u001b[0m\u001b[0;34m\u001b[0m\u001b[0;34m\u001b[0m\u001b[0m\n\u001b[1;32m     11\u001b[0m     \u001b[0;32mwhile\u001b[0m\u001b[0;34m(\u001b[0m\u001b[0mk\u001b[0m\u001b[0;34m<=\u001b[0m\u001b[0mb\u001b[0m\u001b[0;34m[\u001b[0m\u001b[0;34m-\u001b[0m\u001b[0;36m1\u001b[0m\u001b[0;34m:\u001b[0m\u001b[0;34m-\u001b[0m\u001b[0;36m2\u001b[0m\u001b[0;34m]\u001b[0m\u001b[0;34m)\u001b[0m\u001b[0;34m:\u001b[0m\u001b[0;34m\u001b[0m\u001b[0;34m\u001b[0m\u001b[0m\n",
      "\u001b[0;31mTypeError\u001b[0m: '<=' not supported between instances of 'int' and 'list'"
     ]
    }
   ],
   "source": [
    "a=int(input())\n",
    "b=list(map(int,input().split()))\n",
    "b.append(1)\n",
    "sum=0\n",
    "sum1=0\n",
    "j=0\n",
    "k=0\n",
    "for i in range(len(b)-1):\n",
    "    while(j<=b[0:2]):\n",
    "        sum=sum+b[j]\n",
    "    while(k<=b[-1:-2]):\n",
    "        sum1=sum1+k\n",
    "if(sum==sum1):\n",
    "    print(1)\n",
    "else:\n",
    "    print(0)"
   ]
  },
  {
   "cell_type": "code",
   "execution_count": 68,
   "id": "34d0909f",
   "metadata": {},
   "outputs": [
    {
     "name": "stdout",
     "output_type": "stream",
     "text": [
      "59\n",
      "Great\n"
     ]
    }
   ],
   "source": [
    "n=int(input())\n",
    "i=0\n",
    "s=0\n",
    "p=1\n",
    "while(i<=n):\n",
    "    s=s+n%10\n",
    "    n=n/10\n",
    "    i=i+1\n",
    "while(j<=n):\n",
    "    p=p*j \n",
    "    n=n/10\n",
    "    j=j+1 \n",
    "h=s+p\n",
    "if(h==n):\n",
    "    print('no')\n",
    "else:\n",
    "    print('Great')\n",
    "\n"
   ]
  },
  {
   "cell_type": "code",
   "execution_count": 76,
   "id": "29e0c21c",
   "metadata": {},
   "outputs": [
    {
     "name": "stdout",
     "output_type": "stream",
     "text": [
      "5\n",
      "1 1 1 1 1 \n",
      "2 2 2 2 \n",
      "3 3 3 \n",
      "4 4 \n",
      "5 \n"
     ]
    }
   ],
   "source": [
    "a=int(input())\n",
    "b = 0\n",
    "for i in range(a, 0, -1):\n",
    "    b += 1\n",
    "    for j in range(1, i + 1):\n",
    "        print(b, end=\" \")\n",
    "    print(\"\\r\")"
   ]
  },
  {
   "cell_type": "code",
   "execution_count": 79,
   "id": "088734b6",
   "metadata": {},
   "outputs": [
    {
     "name": "stdout",
     "output_type": "stream",
     "text": [
      "5\n",
      "1 2 3 4 5 \n",
      "1 2 3 4 \n",
      "1 2 3 \n",
      "1 2 \n",
      "1 \n"
     ]
    }
   ],
   "source": [
    "a=int(input())\n",
    "for i in range(a,0,-1):\n",
    "    for j in range(0,i+1):\n",
    "        if(j!=0):\n",
    "            print(j, end=\" \")\n",
    "    print(\"\\r\")"
   ]
  },
  {
   "cell_type": "code",
   "execution_count": 81,
   "id": "9956ebbc",
   "metadata": {},
   "outputs": [
    {
     "name": "stdout",
     "output_type": "stream",
     "text": [
      "5\n",
      "12345\n",
      "1234\n",
      "123\n",
      "12\n",
      "1\n"
     ]
    }
   ],
   "source": [
    "a=int(input())\n",
    "for i in range(a,0,-1):\n",
    "    for j in range(0,i+1):\n",
    "        if(j!=0):\n",
    "            print(j,end=\"\")\n",
    "    print(\"\\r\")\n"
   ]
  },
  {
   "cell_type": "code",
   "execution_count": 82,
   "id": "4fe0b604",
   "metadata": {},
   "outputs": [
    {
     "name": "stdout",
     "output_type": "stream",
     "text": [
      "5\n",
      "A23 B56 B56 C79 D16\n",
      "A23 B56 C79 D16\n"
     ]
    }
   ],
   "source": [
    "a=int(input())\n",
    "b=list(map(str,input().split()))\n",
    "b.append(1)\n",
    "c=[]\n",
    "for i in range(len(b)-1):\n",
    "    if(b[i]!=b[i+1]):\n",
    "        c.append(b[i])\n",
    "print(\" \".join(c))"
   ]
  },
  {
   "cell_type": "code",
   "execution_count": 87,
   "id": "7a83b11b",
   "metadata": {},
   "outputs": [
    {
     "name": "stdout",
     "output_type": "stream",
     "text": [
      "5\n",
      "A23 B56 B56 C79 D16\n",
      "A23 B56 C79 D16\n"
     ]
    }
   ],
   "source": [
    "a=int(input())\n",
    "b=list(map(str,input().split()))\n",
    "c=set(b)\n",
    "c=list(c)\n",
    "c.sort()\n",
    "print(' '.join(c))"
   ]
  },
  {
   "cell_type": "code",
   "execution_count": 90,
   "id": "73f0f14d",
   "metadata": {},
   "outputs": [
    {
     "name": "stdout",
     "output_type": "stream",
     "text": [
      "3\n",
      "7 4 9\n"
     ]
    }
   ],
   "source": [
    "a=int(input())\n",
    "b=list(map(int,input().split()))\n",
    "for i in range(len(b)):\n",
    "    if(b[-1]>b[1] and b[0]>b[2]):\n",
    "        g1=b[0]\n",
    "    if(b[1]>)"
   ]
  },
  {
   "cell_type": "code",
   "execution_count": 93,
   "id": "c724d418",
   "metadata": {},
   "outputs": [
    {
     "name": "stdout",
     "output_type": "stream",
     "text": [
      "3\n",
      "7 4 9\n",
      "3\n",
      "3\n",
      "3\n"
     ]
    }
   ],
   "source": [
    "a=int(input())\n",
    "b=list(map(int,input().split()))\n",
    "for i in range(len(b)):\n",
    "    print(b[-1]-b[0]+1)\n",
    "    break"
   ]
  },
  {
   "cell_type": "code",
   "execution_count": 95,
   "id": "6822b959",
   "metadata": {},
   "outputs": [
    {
     "name": "stdout",
     "output_type": "stream",
     "text": [
      "3\n",
      "7 4 9\n",
      "3\n"
     ]
    }
   ],
   "source": [
    "import sys\n",
    "def trap(bars):\n",
    "    n = len(bars)\n",
    "    if n <= 2:\n",
    "        return 0\n",
    "    water = 0\n",
    "    left = [None] * (n - 1)\n",
    "    left[0] = -sys.maxsize\n",
    "    for i in range(1, n - 1):\n",
    "        left[i] = max(left[i - 1], bars[i - 1])\n",
    "    right = -sys.maxsize\n",
    "    for i in reversed(range(1, n - 1)):\n",
    "        right = max(right, bars[i + 1])\n",
    "        if min(left[i], right) > bars[i]:\n",
    "            water += min(left[i], right) - bars[i]\n",
    "    return water\n",
    "if __name__ == '__main__':\n",
    "    a=int(input())\n",
    "    b=list(map(int,input().split()))\n",
    "    print(trap(b))"
   ]
  },
  {
   "cell_type": "code",
   "execution_count": 96,
   "id": "8990af5a",
   "metadata": {},
   "outputs": [
    {
     "name": "stdout",
     "output_type": "stream",
     "text": [
      "3\n",
      "7 4 9\n",
      "3\n"
     ]
    }
   ],
   "source": [
    "n=int(input())\n",
    "l=list(map(int,input().split()))\n",
    "a=0\n",
    "for i in range(1,len(l)-1):\n",
    "    if(l[i]<l[i-1] and l[i]<l[i+1]):\n",
    "        a=a+min(l[i+1],l[i-1])-l[i]\n",
    "print(a)"
   ]
  },
  {
   "cell_type": "code",
   "execution_count": 104,
   "id": "f8b5a14c",
   "metadata": {},
   "outputs": [
    {
     "name": "stdout",
     "output_type": "stream",
     "text": [
      "5\n",
      "3 2 1 66 6\n",
      "[1, 3]\n",
      "1 3 2 66 6\n"
     ]
    }
   ],
   "source": [
    "a=int(input())\n",
    "b=list(map(int,input().split()))\n",
    "c=[]\n",
    "d=[]\n",
    "for i in b:\n",
    "    if i%2!=0:\n",
    "        c.append(i)\n",
    "    else:\n",
    "        d.append(i)\n",
    "e=c[::-1]\n",
    "f=e+d\n",
    "print(*f)"
   ]
  },
  {
   "cell_type": "code",
   "execution_count": 106,
   "id": "d4ec7aae",
   "metadata": {},
   "outputs": [
    {
     "name": "stdout",
     "output_type": "stream",
     "text": [
      "5\n",
      "3 9 1 44 6\n"
     ]
    },
    {
     "ename": "IndexError",
     "evalue": "list index out of range",
     "output_type": "error",
     "traceback": [
      "\u001b[0;31m---------------------------------------------------------------------------\u001b[0m",
      "\u001b[0;31mIndexError\u001b[0m                                Traceback (most recent call last)",
      "\u001b[0;32m/var/folders/7k/sc3lh9xn41n5c6p65w91_z240000gp/T/ipykernel_52031/1310144689.py\u001b[0m in \u001b[0;36m<module>\u001b[0;34m\u001b[0m\n\u001b[1;32m      8\u001b[0m \u001b[0mc\u001b[0m\u001b[0;34m.\u001b[0m\u001b[0msort\u001b[0m\u001b[0;34m(\u001b[0m\u001b[0;34m)\u001b[0m\u001b[0;34m\u001b[0m\u001b[0;34m\u001b[0m\u001b[0m\n\u001b[1;32m      9\u001b[0m \u001b[0;32mfor\u001b[0m \u001b[0mj\u001b[0m \u001b[0;32min\u001b[0m \u001b[0mrange\u001b[0m\u001b[0;34m(\u001b[0m\u001b[0;36m0\u001b[0m\u001b[0;34m,\u001b[0m\u001b[0mlen\u001b[0m\u001b[0;34m(\u001b[0m\u001b[0mb\u001b[0m\u001b[0;34m)\u001b[0m\u001b[0;34m,\u001b[0m\u001b[0;36m2\u001b[0m\u001b[0;34m)\u001b[0m\u001b[0;34m:\u001b[0m\u001b[0;34m\u001b[0m\u001b[0;34m\u001b[0m\u001b[0m\n\u001b[0;32m---> 10\u001b[0;31m     \u001b[0mb\u001b[0m\u001b[0;34m.\u001b[0m\u001b[0mappend\u001b[0m\u001b[0;34m(\u001b[0m\u001b[0mc\u001b[0m\u001b[0;34m[\u001b[0m\u001b[0mj\u001b[0m\u001b[0;34m]\u001b[0m\u001b[0;34m)\u001b[0m\u001b[0;34m\u001b[0m\u001b[0;34m\u001b[0m\u001b[0m\n\u001b[0m\u001b[1;32m     11\u001b[0m \u001b[0mprint\u001b[0m\u001b[0;34m(\u001b[0m\u001b[0;34m*\u001b[0m\u001b[0mb\u001b[0m\u001b[0;34m)\u001b[0m\u001b[0;34m\u001b[0m\u001b[0;34m\u001b[0m\u001b[0m\n",
      "\u001b[0;31mIndexError\u001b[0m: list index out of range"
     ]
    }
   ],
   "source": [
    "a=int(input())\n",
    "b=list(map(int,input().split()))\n",
    "c=[]\n",
    "d=[]\n",
    "for i in range(len(b)):\n",
    "    if i%2==0:\n",
    "        c.append(b[i])\n",
    "c.sort()\n",
    "for i in range(0,len(b),2):\n",
    "    b.append(c[i])\n",
    "print(*b)"
   ]
  },
  {
   "cell_type": "code",
   "execution_count": 110,
   "id": "5656ebfd",
   "metadata": {},
   "outputs": [
    {
     "name": "stdout",
     "output_type": "stream",
     "text": [
      "abcddee\n",
      "d e\n"
     ]
    }
   ],
   "source": [
    "a=input()\n",
    "c=[]\n",
    "dup=[]\n",
    "for i in range(len(a)-1):\n",
    "    if(a[i]!= a[i+1]):\n",
    "        c.append(a[i])\n",
    "    else:\n",
    "        dup.append(a[i])\n",
    "print(\" \".join(list(map(str,dup))))"
   ]
  },
  {
   "cell_type": "code",
   "execution_count": 115,
   "id": "574ec7db",
   "metadata": {},
   "outputs": [
    {
     "name": "stdout",
     "output_type": "stream",
     "text": [
      "The sun rises in the east\n"
     ]
    },
    {
     "ename": "IndexError",
     "evalue": "string index out of range",
     "output_type": "error",
     "traceback": [
      "\u001b[0;31m---------------------------------------------------------------------------\u001b[0m",
      "\u001b[0;31mIndexError\u001b[0m                                Traceback (most recent call last)",
      "\u001b[0;32m/var/folders/7k/sc3lh9xn41n5c6p65w91_z240000gp/T/ipykernel_52031/1659342206.py\u001b[0m in \u001b[0;36m<module>\u001b[0;34m\u001b[0m\n\u001b[1;32m      4\u001b[0m     \u001b[0;32mif\u001b[0m\u001b[0;34m(\u001b[0m\u001b[0ma\u001b[0m\u001b[0;34m[\u001b[0m\u001b[0mi\u001b[0m\u001b[0;34m]\u001b[0m\u001b[0;34m==\u001b[0m\u001b[0;34m'The'\u001b[0m \u001b[0;32mor\u001b[0m \u001b[0ma\u001b[0m\u001b[0;34m[\u001b[0m\u001b[0mi\u001b[0m\u001b[0;34m]\u001b[0m\u001b[0;34m==\u001b[0m\u001b[0;34m'the'\u001b[0m\u001b[0;34m)\u001b[0m\u001b[0;34m:\u001b[0m\u001b[0;34m\u001b[0m\u001b[0;34m\u001b[0m\u001b[0m\n\u001b[1;32m      5\u001b[0m         \u001b[0mb\u001b[0m\u001b[0;34m.\u001b[0m\u001b[0mappend\u001b[0m\u001b[0;34m(\u001b[0m\u001b[0ma\u001b[0m\u001b[0;34m[\u001b[0m\u001b[0mi\u001b[0m\u001b[0;34m]\u001b[0m\u001b[0;34m)\u001b[0m\u001b[0;34m\u001b[0m\u001b[0;34m\u001b[0m\u001b[0m\n\u001b[0;32m----> 6\u001b[0;31m \u001b[0mprint\u001b[0m\u001b[0;34m(\u001b[0m\u001b[0;34m\" \"\u001b[0m\u001b[0;34m.\u001b[0m\u001b[0mjoin\u001b[0m\u001b[0;34m(\u001b[0m\u001b[0mlist\u001b[0m\u001b[0;34m(\u001b[0m\u001b[0mmap\u001b[0m\u001b[0;34m(\u001b[0m\u001b[0mstr\u001b[0m\u001b[0;34m,\u001b[0m\u001b[0ma\u001b[0m\u001b[0;34m[\u001b[0m\u001b[0mi\u001b[0m\u001b[0;34m+\u001b[0m\u001b[0;36m1\u001b[0m\u001b[0;34m]\u001b[0m\u001b[0;34m)\u001b[0m\u001b[0;34m)\u001b[0m\u001b[0;34m)\u001b[0m\u001b[0;34m)\u001b[0m\u001b[0;34m\u001b[0m\u001b[0;34m\u001b[0m\u001b[0m\n\u001b[0m",
      "\u001b[0;31mIndexError\u001b[0m: string index out of range"
     ]
    }
   ],
   "source": [
    "a=input()\n",
    "b=[]\n",
    "for i in range(len(a)):\n",
    "    if(a[i]=='The' or a[i]=='the'):\n",
    "        b.append(a[i])\n",
    "print(\" \".join(list(map(str,a[i+1]))))"
   ]
  },
  {
   "cell_type": "code",
   "execution_count": 118,
   "id": "41a2ffda",
   "metadata": {},
   "outputs": [
    {
     "name": "stdout",
     "output_type": "stream",
     "text": [
      "AC30BD40\n",
      "ACBD7\n"
     ]
    }
   ],
   "source": [
    "a=input()\n",
    "count = 0\n",
    "res = []\n",
    "for i in a:\n",
    "    if i.isdigit():\n",
    "        count += int(i)\n",
    "    else:\n",
    "        res.append(i)\n",
    "result = \"\".join(res)\n",
    "print(f\"{result}{count}\")"
   ]
  },
  {
   "cell_type": "code",
   "execution_count": null,
   "id": "1ea5978e",
   "metadata": {},
   "outputs": [],
   "source": []
  }
 ],
 "metadata": {
  "kernelspec": {
   "display_name": "Python 3 (ipykernel)",
   "language": "python",
   "name": "python3"
  },
  "language_info": {
   "codemirror_mode": {
    "name": "ipython",
    "version": 3
   },
   "file_extension": ".py",
   "mimetype": "text/x-python",
   "name": "python",
   "nbconvert_exporter": "python",
   "pygments_lexer": "ipython3",
   "version": "3.9.7"
  }
 },
 "nbformat": 4,
 "nbformat_minor": 5
}
