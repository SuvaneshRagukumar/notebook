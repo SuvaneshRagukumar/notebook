{
 "cells": [
  {
   "cell_type": "code",
   "execution_count": 14,
   "id": "45468092",
   "metadata": {},
   "outputs": [
    {
     "data": {
      "text/html": [
       "<div>\n",
       "<style scoped>\n",
       "    .dataframe tbody tr th:only-of-type {\n",
       "        vertical-align: middle;\n",
       "    }\n",
       "\n",
       "    .dataframe tbody tr th {\n",
       "        vertical-align: top;\n",
       "    }\n",
       "\n",
       "    .dataframe thead th {\n",
       "        text-align: right;\n",
       "    }\n",
       "</style>\n",
       "<table border=\"1\" class=\"dataframe\">\n",
       "  <thead>\n",
       "    <tr style=\"text-align: right;\">\n",
       "      <th></th>\n",
       "      <th>first name</th>\n",
       "      <th>last name</th>\n",
       "    </tr>\n",
       "  </thead>\n",
       "  <tbody>\n",
       "    <tr>\n",
       "      <th>0</th>\n",
       "      <td>suvanesh</td>\n",
       "      <td>ragukumar</td>\n",
       "    </tr>\n",
       "    <tr>\n",
       "      <th>1</th>\n",
       "      <td>tony</td>\n",
       "      <td>stark</td>\n",
       "    </tr>\n",
       "    <tr>\n",
       "      <th>2</th>\n",
       "      <td>caption</td>\n",
       "      <td>america</td>\n",
       "    </tr>\n",
       "    <tr>\n",
       "      <th>3</th>\n",
       "      <td>tony</td>\n",
       "      <td>stark</td>\n",
       "    </tr>\n",
       "  </tbody>\n",
       "</table>\n",
       "</div>"
      ],
      "text/plain": [
       "  first name  last name\n",
       "0   suvanesh  ragukumar\n",
       "1       tony      stark\n",
       "2    caption    america\n",
       "3       tony      stark"
      ]
     },
     "execution_count": 14,
     "metadata": {},
     "output_type": "execute_result"
    }
   ],
   "source": [
    "import pandas as pd\n",
    "data={\n",
    "    \"first name\":[\"suvanesh\",\"tony\",\"caption\",\"tony\"],\n",
    "    \"last name\":[\"ragukumar\",\"stark\",\"america\",\"stark\"]\n",
    "}\n",
    "ds=pd.DataFrame(data)\n",
    "ds"
   ]
  },
  {
   "cell_type": "code",
   "execution_count": 15,
   "id": "ce49dcee",
   "metadata": {},
   "outputs": [
    {
     "name": "stdout",
     "output_type": "stream",
     "text": [
      "['sragukumar@gmail.com', 'tstark@gmail.com', 'camerica@gmail.com', 'tostark@gmail.com']\n"
     ]
    }
   ],
   "source": [
    "email=[]\n",
    "for i,j in ds.iterrows():\n",
    "    firstname=j[\"first name\"]\n",
    "    lastname=j[\"last name\"]\n",
    "    k=1\n",
    "    while(k):\n",
    "        name=firstname[:k]+lastname+\"@gmail.com\"\n",
    "        if name not in email:\n",
    "            email.append(name)\n",
    "            break\n",
    "        else:\n",
    "            k=k+1\n",
    "print(email)"
   ]
  },
  {
   "cell_type": "code",
   "execution_count": 16,
   "id": "7bc31dd4",
   "metadata": {},
   "outputs": [],
   "source": [
    "ds[\"Email\"]=email"
   ]
  },
  {
   "cell_type": "code",
   "execution_count": 17,
   "id": "222798e0",
   "metadata": {},
   "outputs": [
    {
     "data": {
      "text/html": [
       "<div>\n",
       "<style scoped>\n",
       "    .dataframe tbody tr th:only-of-type {\n",
       "        vertical-align: middle;\n",
       "    }\n",
       "\n",
       "    .dataframe tbody tr th {\n",
       "        vertical-align: top;\n",
       "    }\n",
       "\n",
       "    .dataframe thead th {\n",
       "        text-align: right;\n",
       "    }\n",
       "</style>\n",
       "<table border=\"1\" class=\"dataframe\">\n",
       "  <thead>\n",
       "    <tr style=\"text-align: right;\">\n",
       "      <th></th>\n",
       "      <th>first name</th>\n",
       "      <th>last name</th>\n",
       "      <th>Email</th>\n",
       "    </tr>\n",
       "  </thead>\n",
       "  <tbody>\n",
       "    <tr>\n",
       "      <th>0</th>\n",
       "      <td>suvanesh</td>\n",
       "      <td>ragukumar</td>\n",
       "      <td>sragukumar@gmail.com</td>\n",
       "    </tr>\n",
       "    <tr>\n",
       "      <th>1</th>\n",
       "      <td>tony</td>\n",
       "      <td>stark</td>\n",
       "      <td>tstark@gmail.com</td>\n",
       "    </tr>\n",
       "    <tr>\n",
       "      <th>2</th>\n",
       "      <td>caption</td>\n",
       "      <td>america</td>\n",
       "      <td>camerica@gmail.com</td>\n",
       "    </tr>\n",
       "    <tr>\n",
       "      <th>3</th>\n",
       "      <td>tony</td>\n",
       "      <td>stark</td>\n",
       "      <td>tostark@gmail.com</td>\n",
       "    </tr>\n",
       "  </tbody>\n",
       "</table>\n",
       "</div>"
      ],
      "text/plain": [
       "  first name  last name                 Email\n",
       "0   suvanesh  ragukumar  sragukumar@gmail.com\n",
       "1       tony      stark      tstark@gmail.com\n",
       "2    caption    america    camerica@gmail.com\n",
       "3       tony      stark     tostark@gmail.com"
      ]
     },
     "execution_count": 17,
     "metadata": {},
     "output_type": "execute_result"
    }
   ],
   "source": [
    "ds"
   ]
  },
  {
   "cell_type": "code",
   "execution_count": null,
   "id": "e681ca1b",
   "metadata": {},
   "outputs": [],
   "source": [
    "schema-create definition and organization of data within a relational database.\n",
    "database- it's a collection of related information that can be stored in different ways\n"
   ]
  }
 ],
 "metadata": {
  "kernelspec": {
   "display_name": "Python 3 (ipykernel)",
   "language": "python",
   "name": "python3"
  },
  "language_info": {
   "codemirror_mode": {
    "name": "ipython",
    "version": 3
   },
   "file_extension": ".py",
   "mimetype": "text/x-python",
   "name": "python",
   "nbconvert_exporter": "python",
   "pygments_lexer": "ipython3",
   "version": "3.9.7"
  }
 },
 "nbformat": 4,
 "nbformat_minor": 5
}
