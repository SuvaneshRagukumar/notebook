{
 "cells": [
  {
   "cell_type": "code",
   "execution_count": 2,
   "id": "c2c2d68a",
   "metadata": {},
   "outputs": [
    {
     "name": "stdout",
     "output_type": "stream",
     "text": [
      "BMW\n",
      "Black\n",
      "steel wheels\n"
     ]
    }
   ],
   "source": [
    "class car:\n",
    "    def __init__(self):\n",
    "        self.brand()\n",
    "        self.color()\n",
    "        self.wheels()\n",
    "    def brand(self):\n",
    "        print(\"BMW\")\n",
    "    def color(self):\n",
    "        print(\"Black\")\n",
    "    def wheels(self):\n",
    "        print(\"steel wheels\")\n",
    "a=car()"
   ]
  },
  {
   "cell_type": "code",
   "execution_count": 9,
   "id": "84ed0625",
   "metadata": {},
   "outputs": [
    {
     "name": "stdout",
     "output_type": "stream",
     "text": [
      "The Dark Knight Rises\n",
      "Inception\n",
      "following\n"
     ]
    }
   ],
   "source": [
    "class cinema:\n",
    "    def __init__(self):\n",
    "        self.name=\"none\"\n",
    "    def getname(self):\n",
    "        return self.name\n",
    "    def setname(self,name):\n",
    "        self.name=name\n",
    "a=cinema()\n",
    "b=cinema()\n",
    "c=cinema()\n",
    "a.setname(\"The Dark Knight Rises\")\n",
    "b.setname(\"Inception\")\n",
    "c.setname(\"following\")\n",
    "print(a.name)\n",
    "print(b.name)\n",
    "print(c.name)"
   ]
  },
  {
   "cell_type": "code",
   "execution_count": 15,
   "id": "ad3e42d1",
   "metadata": {},
   "outputs": [
    {
     "name": "stdout",
     "output_type": "stream",
     "text": [
      "rolling\n",
      "farming\n"
     ]
    }
   ],
   "source": [
    "class camera:\n",
    "    def start(self):\n",
    "        print(\"rolling\")\n",
    "class cameraMan(camera):\n",
    "    def getframe(self):\n",
    "        print(\"farming\")\n",
    "camera=cameraMan()\n",
    "camera.start()\n",
    "camera.getframe()"
   ]
  },
  {
   "cell_type": "code",
   "execution_count": 17,
   "id": "ff509387",
   "metadata": {},
   "outputs": [
    {
     "name": "stdout",
     "output_type": "stream",
     "text": [
      "*playing music*\n",
      "stop playing\n"
     ]
    }
   ],
   "source": [
    "class music:\n",
    "    @staticmethod\n",
    "    def play():\n",
    "        print(\"*playing music*\")\n",
    "    def stop(self):\n",
    "        print(\"stop playing\")\n",
    "music.play()\n",
    "obj=music()\n",
    "obj.stop()"
   ]
  },
  {
   "cell_type": "code",
   "execution_count": 22,
   "id": "60176c82",
   "metadata": {},
   "outputs": [
    {
     "name": "stdout",
     "output_type": "stream",
     "text": [
      "[[ 1  2  3]\n",
      " [ 4  5  6]\n",
      " [ 7  8  9]\n",
      " [10 11 12]]\n"
     ]
    }
   ],
   "source": [
    "import numpy as np\n",
    "arr=np.array([1,2,3,4,5,6,7,8,9,10,11,12])\n",
    "a=arr.reshape(4,3)\n",
    "print(a)"
   ]
  },
  {
   "cell_type": "code",
   "execution_count": 26,
   "id": "a73a90b5",
   "metadata": {},
   "outputs": [
    {
     "name": "stdout",
     "output_type": "stream",
     "text": [
      "1\n",
      "2\n",
      "3\n",
      "4\n",
      "5\n",
      "6\n",
      "7\n",
      "8\n",
      "9\n",
      "10\n",
      "11\n",
      "12\n"
     ]
    }
   ],
   "source": [
    "b=np.array([[[1,2,3],[4,5,6],[7,8,9],[10,11,12]]])\n",
    "for x in b:\n",
    "    for y in x:\n",
    "        for z in y:\n",
    "            print(z)"
   ]
  },
  {
   "cell_type": "code",
   "execution_count": 28,
   "id": "e18f95ee",
   "metadata": {},
   "outputs": [
    {
     "name": "stdout",
     "output_type": "stream",
     "text": [
      "[1 2 3 4 5 6]\n"
     ]
    }
   ],
   "source": [
    "a=np.array([1,2,3])\n",
    "b=np.array([4,5,6])\n",
    "arr=np.hstack((a,b))\n",
    "print(arr)"
   ]
  },
  {
   "cell_type": "code",
   "execution_count": 30,
   "id": "aaa7e2b3",
   "metadata": {},
   "outputs": [
    {
     "name": "stdout",
     "output_type": "stream",
     "text": [
      "[[1 2 3]\n",
      " [4 5 6]]\n"
     ]
    }
   ],
   "source": [
    "a=np.array([1,2,3])\n",
    "b=np.array([4,5,6])\n",
    "arr=np.vstack((a,b))\n",
    "print(arr)"
   ]
  },
  {
   "cell_type": "code",
   "execution_count": 31,
   "id": "0ebde3e5",
   "metadata": {},
   "outputs": [
    {
     "name": "stdout",
     "output_type": "stream",
     "text": [
      "1\n",
      "2\n",
      "3\n",
      "4\n",
      "5\n",
      "6\n",
      "7\n",
      "8\n"
     ]
    }
   ],
   "source": [
    "a=np.array([[[1,2],[3,4],[5,6],[7,8]]])\n",
    "for x in np.nditer(a):\n",
    "    print(x)"
   ]
  },
  {
   "cell_type": "code",
   "execution_count": 36,
   "id": "853f75ac",
   "metadata": {},
   "outputs": [
    {
     "name": "stdout",
     "output_type": "stream",
     "text": [
      "  first name  last name\n",
      "0   suvanesh  ragukumar\n",
      "1       tony      stark\n",
      "2    caption    america\n",
      "3   suvanesh  ragukumar\n"
     ]
    }
   ],
   "source": [
    "import pandas as pd\n",
    "data={\n",
    "    \"first name\":['suvanesh','tony','caption','suvanesh'],\n",
    "    \"last name\":['ragukumar','stark','america','ragukumar'],\n",
    "    #\"email id\":['s.ragukumar@gamil.com']\n",
    "}\n",
    "df=pd.DataFrame(data)\n",
    "\n",
    "print(df)"
   ]
  },
  {
   "cell_type": "code",
   "execution_count": 39,
   "id": "2f4d6391",
   "metadata": {},
   "outputs": [
    {
     "name": "stdout",
     "output_type": "stream",
     "text": [
      "3 44\n"
     ]
    }
   ],
   "source": [
    "def f(value, values):\n",
    "\n",
    "    v = 1\n",
    "\n",
    "    values[0] = 44\n",
    "\n",
    "t = 3\n",
    "\n",
    "v = [1, 2, 3]\n",
    "\n",
    "f(t, v)\n",
    "\n",
    "print(t, v[0])"
   ]
  },
  {
   "cell_type": "code",
   "execution_count": 40,
   "id": "0ed8d425",
   "metadata": {},
   "outputs": [
    {
     "name": "stdout",
     "output_type": "stream",
     "text": [
      "0\n",
      "1\n",
      "4\n",
      "5\n"
     ]
    }
   ],
   "source": [
    "for i in range(2):\n",
    "\n",
    "    print (i)\n",
    "\n",
    "for i in range(4,6):\n",
    "\n",
    "    print (i)"
   ]
  },
  {
   "cell_type": "code",
   "execution_count": null,
   "id": "260a74a5",
   "metadata": {},
   "outputs": [],
   "source": []
  }
 ],
 "metadata": {
  "kernelspec": {
   "display_name": "Python 3 (ipykernel)",
   "language": "python",
   "name": "python3"
  },
  "language_info": {
   "codemirror_mode": {
    "name": "ipython",
    "version": 3
   },
   "file_extension": ".py",
   "mimetype": "text/x-python",
   "name": "python",
   "nbconvert_exporter": "python",
   "pygments_lexer": "ipython3",
   "version": "3.9.7"
  }
 },
 "nbformat": 4,
 "nbformat_minor": 5
}
