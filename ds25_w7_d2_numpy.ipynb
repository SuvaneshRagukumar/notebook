{
 "cells": [
  {
   "cell_type": "code",
   "execution_count": null,
   "id": "36759206",
   "metadata": {},
   "outputs": [],
   "source": [
    "pip install numpy\n"
   ]
  },
  {
   "cell_type": "code",
   "execution_count": 1,
   "id": "4a8ad7e6",
   "metadata": {},
   "outputs": [],
   "source": [
    "import numpy as np"
   ]
  },
  {
   "cell_type": "code",
   "execution_count": 3,
   "id": "dafd3b13",
   "metadata": {},
   "outputs": [
    {
     "data": {
      "text/plain": [
       "array([0, 1, 2, 3, 4, 5, 6, 7, 8, 9])"
      ]
     },
     "execution_count": 3,
     "metadata": {},
     "output_type": "execute_result"
    }
   ],
   "source": [
    "my_list = np.arange(10)\n",
    "my_list"
   ]
  },
  {
   "cell_type": "code",
   "execution_count": 4,
   "id": "0783102a",
   "metadata": {},
   "outputs": [
    {
     "data": {
      "text/plain": [
       "array([0, 1, 2, 3, 4, 5, 6, 7, 8, 9])"
      ]
     },
     "execution_count": 4,
     "metadata": {},
     "output_type": "execute_result"
    }
   ],
   "source": [
    "my_list = np.arange(0,10)\n",
    "my_list"
   ]
  },
  {
   "cell_type": "code",
   "execution_count": 5,
   "id": "5313e55d",
   "metadata": {},
   "outputs": [
    {
     "data": {
      "text/plain": [
       "array([ 0,  2,  4,  6,  8, 10])"
      ]
     },
     "execution_count": 5,
     "metadata": {},
     "output_type": "execute_result"
    }
   ],
   "source": [
    "my_list = np.arange(0,11,2)\n",
    "my_list"
   ]
  },
  {
   "cell_type": "code",
   "execution_count": 6,
   "id": "51135f54",
   "metadata": {},
   "outputs": [
    {
     "data": {
      "text/plain": [
       "array([0., 0., 0., 0., 0., 0., 0.])"
      ]
     },
     "execution_count": 6,
     "metadata": {},
     "output_type": "execute_result"
    }
   ],
   "source": [
    "my_zeros = np.zeros(7)\n",
    "my_zeros"
   ]
  },
  {
   "cell_type": "code",
   "execution_count": 7,
   "id": "3568ce66",
   "metadata": {},
   "outputs": [
    {
     "data": {
      "text/plain": [
       "array([1., 1., 1., 1., 1.])"
      ]
     },
     "execution_count": 7,
     "metadata": {},
     "output_type": "execute_result"
    }
   ],
   "source": [
    "my_ones = np.ones(5)\n",
    "my_ones"
   ]
  },
  {
   "cell_type": "code",
   "execution_count": 8,
   "id": "80379280",
   "metadata": {},
   "outputs": [
    {
     "data": {
      "text/plain": [
       "array([[0., 0., 0., 0., 0.],\n",
       "       [0., 0., 0., 0., 0.],\n",
       "       [0., 0., 0., 0., 0.]])"
      ]
     },
     "execution_count": 8,
     "metadata": {},
     "output_type": "execute_result"
    }
   ],
   "source": [
    "two_d = np.zeros((3,5))\n",
    "two_d"
   ]
  },
  {
   "cell_type": "code",
   "execution_count": 56,
   "id": "06fa1453",
   "metadata": {},
   "outputs": [
    {
     "data": {
      "text/plain": [
       "array([0.  , 0.25, 0.5 , 0.75, 1.  ])"
      ]
     },
     "execution_count": 56,
     "metadata": {},
     "output_type": "execute_result"
    }
   ],
   "source": [
    "lin_arr = np.linspace(0, 1, 5)\n",
    "lin_arr"
   ]
  },
  {
   "cell_type": "code",
   "execution_count": 11,
   "id": "776f277c",
   "metadata": {},
   "outputs": [
    {
     "data": {
      "text/plain": [
       "array([[1., 0., 0., 0., 0., 0.],\n",
       "       [0., 1., 0., 0., 0., 0.],\n",
       "       [0., 0., 1., 0., 0., 0.],\n",
       "       [0., 0., 0., 1., 0., 0.],\n",
       "       [0., 0., 0., 0., 1., 0.],\n",
       "       [0., 0., 0., 0., 0., 1.]])"
      ]
     },
     "execution_count": 11,
     "metadata": {},
     "output_type": "execute_result"
    }
   ],
   "source": [
    "my_matrx = np.eye(6) \n",
    "my_matrx"
   ]
  },
  {
   "cell_type": "code",
   "execution_count": 12,
   "id": "eb5da227",
   "metadata": {},
   "outputs": [
    {
     "data": {
      "text/plain": [
       "array([0.87040582, 0.53918507, 0.73967441, 0.05306871])"
      ]
     },
     "execution_count": 12,
     "metadata": {},
     "output_type": "execute_result"
    }
   ],
   "source": [
    "my_rand = np.random.rand(4)\n",
    "my_rand"
   ]
  },
  {
   "cell_type": "code",
   "execution_count": 13,
   "id": "45ecf73d",
   "metadata": {},
   "outputs": [
    {
     "data": {
      "text/plain": [
       "array([[0.39097984, 0.98156832, 0.90845016, 0.19924757],\n",
       "       [0.38060984, 0.83011361, 0.90801005, 0.21815794],\n",
       "       [0.16862638, 0.00904791, 0.10482969, 0.08016985],\n",
       "       [0.87949247, 0.08986463, 0.32407314, 0.71502431],\n",
       "       [0.65920004, 0.52261441, 0.89809788, 0.50709108]])"
      ]
     },
     "execution_count": 13,
     "metadata": {},
     "output_type": "execute_result"
    }
   ],
   "source": [
    "my_rand = np.random.rand(5, 4)\n",
    "my_rand"
   ]
  },
  {
   "cell_type": "code",
   "execution_count": 14,
   "id": "6d3bbad2",
   "metadata": {},
   "outputs": [
    {
     "data": {
      "text/plain": [
       "array([-1.17591955, -0.1935177 ,  1.85286936, -0.18910611, -1.73499044,\n",
       "       -0.03827705,  0.42719022])"
      ]
     },
     "execution_count": 14,
     "metadata": {},
     "output_type": "execute_result"
    }
   ],
   "source": [
    "my_randn = np.random.randn(7)\n",
    "my_randn"
   ]
  },
  {
   "cell_type": "code",
   "execution_count": 15,
   "id": "36b1b3af",
   "metadata": {},
   "outputs": [
    {
     "data": {
      "text/plain": [
       "array([[-0.9123806 ,  0.58250624,  0.85472108, -1.01940946, -0.03948129],\n",
       "       [ 0.03044562,  0.31653664, -1.92847352, -1.5586019 ,  0.05930339],\n",
       "       [ 0.57503696, -1.43023975,  0.03222621,  0.59820081, -1.54961417]])"
      ]
     },
     "execution_count": 15,
     "metadata": {},
     "output_type": "execute_result"
    }
   ],
   "source": [
    "np.random.randn(3,5)"
   ]
  },
  {
   "cell_type": "code",
   "execution_count": 61,
   "id": "d444410c",
   "metadata": {},
   "outputs": [
    {
     "data": {
      "text/plain": [
       "6"
      ]
     },
     "execution_count": 61,
     "metadata": {},
     "output_type": "execute_result"
    }
   ],
   "source": [
    "np.random.randint(20) #generates a random integer exclusive of 20"
   ]
  },
  {
   "cell_type": "code",
   "execution_count": 60,
   "id": "9b66cbdc",
   "metadata": {},
   "outputs": [
    {
     "data": {
      "text/plain": [
       "8"
      ]
     },
     "execution_count": 60,
     "metadata": {},
     "output_type": "execute_result"
    }
   ],
   "source": [
    "\n",
    "np.random.randint(2, 20) #generates a random integer including 2 but excluding 20"
   ]
  },
  {
   "cell_type": "code",
   "execution_count": 58,
   "id": "59c947cb",
   "metadata": {},
   "outputs": [
    {
     "data": {
      "text/plain": [
       "array([15, 18,  3, 15, 13, 19, 16])"
      ]
     },
     "execution_count": 58,
     "metadata": {},
     "output_type": "execute_result"
    }
   ],
   "source": [
    "\n",
    "np.random.randint(2, 20, 7) #generates 7 random integers including 2 but excluding 20"
   ]
  },
  {
   "cell_type": "code",
   "execution_count": 20,
   "id": "5a87758c",
   "metadata": {},
   "outputs": [
    {
     "data": {
      "text/plain": [
       "array([0.95502213, 0.68528871, 0.62476132, 0.88887535, 0.79469155,\n",
       "       0.21065143, 0.63559475, 0.9571306 , 0.17446581, 0.41035692,\n",
       "       0.41020233, 0.46870038, 0.69239754, 0.15742569, 0.38081931,\n",
       "       0.38847837, 0.47203651, 0.23006113, 0.70095049, 0.40903346,\n",
       "       0.24648051, 0.81958455, 0.43395563, 0.01991875, 0.87950442])"
      ]
     },
     "execution_count": 20,
     "metadata": {},
     "output_type": "execute_result"
    }
   ],
   "source": [
    "arr = np.random.rand(25)\n",
    "arr"
   ]
  },
  {
   "cell_type": "code",
   "execution_count": 21,
   "id": "3cfd08b5",
   "metadata": {},
   "outputs": [
    {
     "data": {
      "text/plain": [
       "array([[0.95502213, 0.68528871, 0.62476132, 0.88887535, 0.79469155],\n",
       "       [0.21065143, 0.63559475, 0.9571306 , 0.17446581, 0.41035692],\n",
       "       [0.41020233, 0.46870038, 0.69239754, 0.15742569, 0.38081931],\n",
       "       [0.38847837, 0.47203651, 0.23006113, 0.70095049, 0.40903346],\n",
       "       [0.24648051, 0.81958455, 0.43395563, 0.01991875, 0.87950442]])"
      ]
     },
     "execution_count": 21,
     "metadata": {},
     "output_type": "execute_result"
    }
   ],
   "source": [
    "arr.reshape(5,5)"
   ]
  },
  {
   "cell_type": "code",
   "execution_count": 62,
   "id": "64f910ea",
   "metadata": {},
   "outputs": [
    {
     "data": {
      "text/plain": [
       "array([ 7,  6, 19, 19, 11,  1,  2, 18,  9, 15])"
      ]
     },
     "execution_count": 62,
     "metadata": {},
     "output_type": "execute_result"
    }
   ],
   "source": [
    "arr_2 = np.random.randint(0, 20, 10) \n",
    "\n",
    "arr_2"
   ]
  },
  {
   "cell_type": "code",
   "execution_count": 64,
   "id": "4ccb5fbc",
   "metadata": {},
   "outputs": [
    {
     "data": {
      "text/plain": [
       "19"
      ]
     },
     "execution_count": 64,
     "metadata": {},
     "output_type": "execute_result"
    }
   ],
   "source": [
    "arr_2.max() #This gives the highest value in the array "
   ]
  },
  {
   "cell_type": "code",
   "execution_count": 65,
   "id": "223ab67d",
   "metadata": {},
   "outputs": [
    {
     "data": {
      "text/plain": [
       "1"
      ]
     },
     "execution_count": 65,
     "metadata": {},
     "output_type": "execute_result"
    }
   ],
   "source": [
    "arr_2.min() #This gives the lowest value in the array"
   ]
  },
  {
   "cell_type": "code",
   "execution_count": 67,
   "id": "dbf98754",
   "metadata": {},
   "outputs": [
    {
     "data": {
      "text/plain": [
       "2"
      ]
     },
     "execution_count": 67,
     "metadata": {},
     "output_type": "execute_result"
    }
   ],
   "source": [
    "arr_2.argmax() #This shows the index of the highest value in the array \n"
   ]
  },
  {
   "cell_type": "code",
   "execution_count": 68,
   "id": "65ec083f",
   "metadata": {},
   "outputs": [
    {
     "data": {
      "text/plain": [
       "5"
      ]
     },
     "execution_count": 68,
     "metadata": {},
     "output_type": "execute_result"
    }
   ],
   "source": [
    "arr_2.argmin() #This sh"
   ]
  },
  {
   "cell_type": "code",
   "execution_count": 69,
   "id": "e8e0f53a",
   "metadata": {},
   "outputs": [
    {
     "data": {
      "text/plain": [
       "(10,)"
      ]
     },
     "execution_count": 69,
     "metadata": {},
     "output_type": "execute_result"
    }
   ],
   "source": [
    "arr.shape"
   ]
  },
  {
   "cell_type": "code",
   "execution_count": 71,
   "id": "9bae2b16",
   "metadata": {},
   "outputs": [
    {
     "data": {
      "text/plain": [
       "array([ 0,  1,  2,  3,  4,  5,  6,  7,  8,  9, 10])"
      ]
     },
     "execution_count": 71,
     "metadata": {},
     "output_type": "execute_result"
    }
   ],
   "source": [
    "my_array = np.arange(0,11)\n",
    "my_array"
   ]
  },
  {
   "cell_type": "code",
   "execution_count": 73,
   "id": "ed0932a7",
   "metadata": {},
   "outputs": [
    {
     "data": {
      "text/plain": [
       "5"
      ]
     },
     "execution_count": 73,
     "metadata": {},
     "output_type": "execute_result"
    }
   ],
   "source": [
    "my_array[5]"
   ]
  },
  {
   "cell_type": "code",
   "execution_count": 28,
   "id": "b4adec30",
   "metadata": {},
   "outputs": [
    {
     "data": {
      "text/plain": [
       "array([2, 3, 4, 5])"
      ]
     },
     "execution_count": 28,
     "metadata": {},
     "output_type": "execute_result"
    }
   ],
   "source": [
    "my_array[2:6] #This returns everything from index 2 to 6(exclusive)"
   ]
  },
  {
   "cell_type": "code",
   "execution_count": 29,
   "id": "c62b7d9b",
   "metadata": {},
   "outputs": [
    {
     "data": {
      "text/plain": [
       "array([0, 1, 2, 3, 4, 5])"
      ]
     },
     "execution_count": 29,
     "metadata": {},
     "output_type": "execute_result"
    }
   ],
   "source": [
    "\n",
    "my_array[:6] #This returns everything from index 0 to 6(exclusive)"
   ]
  },
  {
   "cell_type": "code",
   "execution_count": 30,
   "id": "2a7d5756",
   "metadata": {},
   "outputs": [
    {
     "data": {
      "text/plain": [
       "array([ 5,  6,  7,  8,  9, 10])"
      ]
     },
     "execution_count": 30,
     "metadata": {},
     "output_type": "execute_result"
    }
   ],
   "source": [
    "\n",
    "my_array[5:] #This returns everything from index 5 to the end of the array."
   ]
  },
  {
   "cell_type": "code",
   "execution_count": 74,
   "id": "95dc906c",
   "metadata": {},
   "outputs": [
    {
     "data": {
      "text/plain": [
       "array([[10, 20, 30],\n",
       "       [40, 50, 60],\n",
       "       [70, 80, 90]])"
      ]
     },
     "execution_count": 74,
     "metadata": {},
     "output_type": "execute_result"
    }
   ],
   "source": [
    "two_d_arr = np.array([[10,20,30], [40,50,60], [70,80,90]])\n",
    "two_d_arr"
   ]
  },
  {
   "cell_type": "code",
   "execution_count": 75,
   "id": "01989a81",
   "metadata": {},
   "outputs": [
    {
     "data": {
      "text/plain": [
       "60"
      ]
     },
     "execution_count": 75,
     "metadata": {},
     "output_type": "execute_result"
    }
   ],
   "source": [
    "two_d_arr[1][2] #The value 60 appears is in row index 1, and column index 2"
   ]
  },
  {
   "cell_type": "code",
   "execution_count": 76,
   "id": "364c1186",
   "metadata": {},
   "outputs": [
    {
     "data": {
      "text/plain": [
       "20"
      ]
     },
     "execution_count": 76,
     "metadata": {},
     "output_type": "execute_result"
    }
   ],
   "source": [
    "two_d_arr[0,1] "
   ]
  },
  {
   "cell_type": "code",
   "execution_count": 77,
   "id": "56bbae05",
   "metadata": {},
   "outputs": [
    {
     "data": {
      "text/plain": [
       "array([[10, 20]])"
      ]
     },
     "execution_count": 77,
     "metadata": {},
     "output_type": "execute_result"
    }
   ],
   "source": [
    "two_d_arr[:1, :2]           # This returns [[10, 20]]\n"
   ]
  },
  {
   "cell_type": "code",
   "execution_count": 34,
   "id": "4353dfaf",
   "metadata": {},
   "outputs": [
    {
     "data": {
      "text/plain": [
       "array([[20, 30],\n",
       "       [50, 60]])"
      ]
     },
     "execution_count": 34,
     "metadata": {},
     "output_type": "execute_result"
    }
   ],
   "source": [
    "two_d_arr[:2, 1:]           # This returns ([[20, 30], [50, 60]])\n"
   ]
  },
  {
   "cell_type": "code",
   "execution_count": 35,
   "id": "e9a626d4",
   "metadata": {},
   "outputs": [
    {
     "data": {
      "text/plain": [
       "array([[10, 20],\n",
       "       [40, 50]])"
      ]
     },
     "execution_count": 35,
     "metadata": {},
     "output_type": "execute_result"
    }
   ],
   "source": [
    "two_d_arr[:2, :2]   "
   ]
  },
  {
   "cell_type": "code",
   "execution_count": 38,
   "id": "ce94f4bb",
   "metadata": {},
   "outputs": [
    {
     "data": {
      "text/plain": [
       "array([ 5,  6,  7,  8,  9, 10, 11, 12, 13, 14])"
      ]
     },
     "execution_count": 38,
     "metadata": {},
     "output_type": "execute_result"
    }
   ],
   "source": [
    "new_arr = np.arange(5,15)\n",
    "new_arr"
   ]
  },
  {
   "cell_type": "code",
   "execution_count": 39,
   "id": "ebf60a9e",
   "metadata": {},
   "outputs": [
    {
     "data": {
      "text/plain": [
       "array([False, False, False, False, False, False,  True,  True,  True,\n",
       "        True])"
      ]
     },
     "execution_count": 39,
     "metadata": {},
     "output_type": "execute_result"
    }
   ],
   "source": [
    "new_arr > 10"
   ]
  },
  {
   "cell_type": "code",
   "execution_count": 78,
   "id": "ed3f349f",
   "metadata": {},
   "outputs": [
    {
     "data": {
      "text/plain": [
       "array([7, 8, 9])"
      ]
     },
     "execution_count": 78,
     "metadata": {},
     "output_type": "execute_result"
    }
   ],
   "source": [
    "new_arr[(new_arr>6) & (new_arr<10)]"
   ]
  },
  {
   "cell_type": "code",
   "execution_count": 42,
   "id": "0e2b1658",
   "metadata": {},
   "outputs": [
    {
     "data": {
      "text/plain": [
       "array([50, 50, 50,  3,  4,  5,  6,  7,  8,  9, 10])"
      ]
     },
     "execution_count": 42,
     "metadata": {},
     "output_type": "execute_result"
    }
   ],
   "source": [
    "my_array[0:3] = 50\n",
    "my_array"
   ]
  },
  {
   "cell_type": "code",
   "execution_count": 44,
   "id": "278969ff",
   "metadata": {},
   "outputs": [
    {
     "data": {
      "text/plain": [
       "array([ 1,  2,  3,  4,  5,  6,  7,  8,  9, 10])"
      ]
     },
     "execution_count": 44,
     "metadata": {},
     "output_type": "execute_result"
    }
   ],
   "source": [
    "arr = np.arange(1,11)\n",
    "arr"
   ]
  },
  {
   "cell_type": "code",
   "execution_count": 45,
   "id": "0361fe1f",
   "metadata": {},
   "outputs": [
    {
     "data": {
      "text/plain": [
       "array([  1,   4,   9,  16,  25,  36,  49,  64,  81, 100])"
      ]
     },
     "execution_count": 45,
     "metadata": {},
     "output_type": "execute_result"
    }
   ],
   "source": [
    "arr * arr  "
   ]
  },
  {
   "cell_type": "code",
   "execution_count": 46,
   "id": "deea1fc6",
   "metadata": {},
   "outputs": [
    {
     "data": {
      "text/plain": [
       "array([0, 0, 0, 0, 0, 0, 0, 0, 0, 0])"
      ]
     },
     "execution_count": 46,
     "metadata": {},
     "output_type": "execute_result"
    }
   ],
   "source": [
    "arr - arr  "
   ]
  },
  {
   "cell_type": "code",
   "execution_count": 47,
   "id": "5b4fd3f3",
   "metadata": {},
   "outputs": [
    {
     "data": {
      "text/plain": [
       "array([ 2,  4,  6,  8, 10, 12, 14, 16, 18, 20])"
      ]
     },
     "execution_count": 47,
     "metadata": {},
     "output_type": "execute_result"
    }
   ],
   "source": [
    "arr + arr"
   ]
  },
  {
   "cell_type": "code",
   "execution_count": 48,
   "id": "9db5e7be",
   "metadata": {},
   "outputs": [
    {
     "data": {
      "text/plain": [
       "array([1., 1., 1., 1., 1., 1., 1., 1., 1., 1.])"
      ]
     },
     "execution_count": 48,
     "metadata": {},
     "output_type": "execute_result"
    }
   ],
   "source": [
    "arr / arr  "
   ]
  },
  {
   "cell_type": "code",
   "execution_count": 79,
   "id": "91c90fbe",
   "metadata": {},
   "outputs": [
    {
     "data": {
      "text/plain": [
       "array([ 1,  2,  3,  4,  5,  6,  7,  8,  9, 10])"
      ]
     },
     "execution_count": 79,
     "metadata": {},
     "output_type": "execute_result"
    }
   ],
   "source": [
    "arr"
   ]
  },
  {
   "cell_type": "code",
   "execution_count": 49,
   "id": "b507d946",
   "metadata": {},
   "outputs": [
    {
     "data": {
      "text/plain": [
       "array([51, 52, 53, 54, 55, 56, 57, 58, 59, 60])"
      ]
     },
     "execution_count": 49,
     "metadata": {},
     "output_type": "execute_result"
    }
   ],
   "source": [
    "arr + 50 "
   ]
  },
  {
   "cell_type": "code",
   "execution_count": 50,
   "id": "73c0c163",
   "metadata": {},
   "outputs": [
    {
     "data": {
      "text/plain": [
       "55"
      ]
     },
     "execution_count": 50,
     "metadata": {},
     "output_type": "execute_result"
    }
   ],
   "source": [
    "np.sqrt(arr)     #Returns the square root of each element \n",
    "np.exp(arr)     #Returns the exponentials of each element\n",
    "np.sin(arr)     #Returns the sin of each element\n",
    "np.cos(arr)     #Returns the cosine of each element\n",
    "np.log(arr)     #Returns the logarithm of each element\n",
    "np.sum(arr)     #Returns the sum total of elements in the array"
   ]
  },
  {
   "cell_type": "code",
   "execution_count": 81,
   "id": "fdf8aa9e",
   "metadata": {},
   "outputs": [
    {
     "data": {
      "text/plain": [
       "array([ 1,  2,  3,  4,  5,  6,  7,  8,  9, 10, 11, 12, 13, 14, 15, 16, 17,\n",
       "       18, 19, 20, 21, 22, 23, 24, 25])"
      ]
     },
     "execution_count": 81,
     "metadata": {},
     "output_type": "execute_result"
    }
   ],
   "source": [
    "mat = np.arange(1,26)\n",
    "mat"
   ]
  },
  {
   "cell_type": "code",
   "execution_count": 83,
   "id": "38812ab3",
   "metadata": {},
   "outputs": [
    {
     "data": {
      "text/plain": [
       "array([[ 1,  2,  3,  4,  5],\n",
       "       [ 6,  7,  8,  9, 10],\n",
       "       [11, 12, 13, 14, 15],\n",
       "       [16, 17, 18, 19, 20],\n",
       "       [21, 22, 23, 24, 25]])"
      ]
     },
     "execution_count": 83,
     "metadata": {},
     "output_type": "execute_result"
    }
   ],
   "source": [
    "mat = np.arange(1,26).reshape(5,5)\n",
    "mat"
   ]
  },
  {
   "cell_type": "code",
   "execution_count": 84,
   "id": "46112834",
   "metadata": {},
   "outputs": [
    {
     "data": {
      "text/plain": [
       "325"
      ]
     },
     "execution_count": 84,
     "metadata": {},
     "output_type": "execute_result"
    }
   ],
   "source": [
    "\n",
    "mat.sum()         #Returns the sum of all the values in mat"
   ]
  },
  {
   "cell_type": "code",
   "execution_count": 85,
   "id": "f5ae2fdc",
   "metadata": {},
   "outputs": [
    {
     "data": {
      "text/plain": [
       "array([55, 60, 65, 70, 75])"
      ]
     },
     "execution_count": 85,
     "metadata": {},
     "output_type": "execute_result"
    }
   ],
   "source": [
    "\n",
    "mat.sum(axis=0)   #Returns the sum of all the columns in mat"
   ]
  },
  {
   "cell_type": "code",
   "execution_count": 86,
   "id": "a3c91295",
   "metadata": {},
   "outputs": [
    {
     "data": {
      "text/plain": [
       "array([ 15,  40,  65,  90, 115])"
      ]
     },
     "execution_count": 86,
     "metadata": {},
     "output_type": "execute_result"
    }
   ],
   "source": [
    "\n",
    "mat.sum(axis=1)   #Returns the sum of all the rows in mat"
   ]
  },
  {
   "cell_type": "code",
   "execution_count": 52,
   "id": "4d819996",
   "metadata": {},
   "outputs": [
    {
     "data": {
      "text/plain": [
       "array([[0.39097984, 0.98156832, 0.90845016, 0.19924757],\n",
       "       [0.38060984, 0.83011361, 0.90801005, 0.21815794],\n",
       "       [0.16862638, 0.00904791, 0.10482969, 0.08016985],\n",
       "       [0.87949247, 0.08986463, 0.32407314, 0.71502431],\n",
       "       [0.65920004, 0.52261441, 0.89809788, 0.50709108]])"
      ]
     },
     "execution_count": 52,
     "metadata": {},
     "output_type": "execute_result"
    }
   ],
   "source": [
    "my_rand"
   ]
  },
  {
   "cell_type": "code",
   "execution_count": 53,
   "id": "0890540f",
   "metadata": {},
   "outputs": [
    {
     "data": {
      "text/plain": [
       "array([2.47890858, 2.43320888, 3.14346092, 1.71969074])"
      ]
     },
     "execution_count": 53,
     "metadata": {},
     "output_type": "execute_result"
    }
   ],
   "source": [
    "my_rand.sum(axis=0)"
   ]
  },
  {
   "cell_type": "code",
   "execution_count": 54,
   "id": "9c3c2d44",
   "metadata": {},
   "outputs": [
    {
     "data": {
      "text/plain": [
       "array([2.48024589, 2.33689143, 0.36267383, 2.00845455, 2.58700341])"
      ]
     },
     "execution_count": 54,
     "metadata": {},
     "output_type": "execute_result"
    }
   ],
   "source": [
    "my_rand.sum(axis=1)"
   ]
  },
  {
   "cell_type": "code",
   "execution_count": null,
   "id": "8c248b3b",
   "metadata": {},
   "outputs": [],
   "source": []
  }
 ],
 "metadata": {
  "kernelspec": {
   "display_name": "Python 3 (ipykernel)",
   "language": "python",
   "name": "python3"
  },
  "language_info": {
   "codemirror_mode": {
    "name": "ipython",
    "version": 3
   },
   "file_extension": ".py",
   "mimetype": "text/x-python",
   "name": "python",
   "nbconvert_exporter": "python",
   "pygments_lexer": "ipython3",
   "version": "3.9.7"
  }
 },
 "nbformat": 4,
 "nbformat_minor": 5
}
