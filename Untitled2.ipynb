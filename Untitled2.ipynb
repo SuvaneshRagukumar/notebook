{
 "cells": [
  {
   "cell_type": "code",
   "execution_count": 1,
   "id": "d265abe8",
   "metadata": {},
   "outputs": [
    {
     "name": "stdout",
     "output_type": "stream",
     "text": [
      "{1, 2, 3, 4}\n"
     ]
    }
   ],
   "source": [
    "a={1,2,3,4}\n",
    "print(a)"
   ]
  },
  {
   "cell_type": "code",
   "execution_count": 2,
   "id": "5a95cdb6",
   "metadata": {},
   "outputs": [
    {
     "data": {
      "text/plain": [
       "['__and__',\n",
       " '__class__',\n",
       " '__class_getitem__',\n",
       " '__contains__',\n",
       " '__delattr__',\n",
       " '__dir__',\n",
       " '__doc__',\n",
       " '__eq__',\n",
       " '__format__',\n",
       " '__ge__',\n",
       " '__getattribute__',\n",
       " '__gt__',\n",
       " '__hash__',\n",
       " '__iand__',\n",
       " '__init__',\n",
       " '__init_subclass__',\n",
       " '__ior__',\n",
       " '__isub__',\n",
       " '__iter__',\n",
       " '__ixor__',\n",
       " '__le__',\n",
       " '__len__',\n",
       " '__lt__',\n",
       " '__ne__',\n",
       " '__new__',\n",
       " '__or__',\n",
       " '__rand__',\n",
       " '__reduce__',\n",
       " '__reduce_ex__',\n",
       " '__repr__',\n",
       " '__ror__',\n",
       " '__rsub__',\n",
       " '__rxor__',\n",
       " '__setattr__',\n",
       " '__sizeof__',\n",
       " '__str__',\n",
       " '__sub__',\n",
       " '__subclasshook__',\n",
       " '__xor__',\n",
       " 'add',\n",
       " 'clear',\n",
       " 'copy',\n",
       " 'difference',\n",
       " 'difference_update',\n",
       " 'discard',\n",
       " 'intersection',\n",
       " 'intersection_update',\n",
       " 'isdisjoint',\n",
       " 'issubset',\n",
       " 'issuperset',\n",
       " 'pop',\n",
       " 'remove',\n",
       " 'symmetric_difference',\n",
       " 'symmetric_difference_update',\n",
       " 'union',\n",
       " 'update']"
      ]
     },
     "execution_count": 2,
     "metadata": {},
     "output_type": "execute_result"
    }
   ],
   "source": [
    "dir(a)"
   ]
  },
  {
   "cell_type": "code",
   "execution_count": 5,
   "id": "d996ba3e",
   "metadata": {},
   "outputs": [
    {
     "data": {
      "text/plain": [
       "{1, 4}"
      ]
     },
     "execution_count": 5,
     "metadata": {},
     "output_type": "execute_result"
    }
   ],
   "source": [
    "a.intersection({1,4,5,6})"
   ]
  },
  {
   "cell_type": "code",
   "execution_count": 6,
   "id": "73163930",
   "metadata": {},
   "outputs": [
    {
     "data": {
      "text/plain": [
       "{3, 4}"
      ]
     },
     "execution_count": 6,
     "metadata": {},
     "output_type": "execute_result"
    }
   ],
   "source": [
    "a.intersection({3,4,5})"
   ]
  },
  {
   "cell_type": "code",
   "execution_count": 9,
   "id": "22c75712",
   "metadata": {},
   "outputs": [
    {
     "name": "stdout",
     "output_type": "stream",
     "text": [
      "{2, 3, 4, 5}\n"
     ]
    }
   ],
   "source": [
    "b={2,3,4,5}\n",
    "print(b)"
   ]
  },
  {
   "cell_type": "code",
   "execution_count": 10,
   "id": "876d450c",
   "metadata": {},
   "outputs": [
    {
     "data": {
      "text/plain": [
       "{1}"
      ]
     },
     "execution_count": 10,
     "metadata": {},
     "output_type": "execute_result"
    }
   ],
   "source": [
    "a.difference(b)"
   ]
  },
  {
   "cell_type": "code",
   "execution_count": 13,
   "id": "10158063",
   "metadata": {},
   "outputs": [
    {
     "data": {
      "text/plain": [
       "{1}"
      ]
     },
     "execution_count": 13,
     "metadata": {},
     "output_type": "execute_result"
    }
   ],
   "source": [
    "a.difference_update(b)\n",
    "a"
   ]
  },
  {
   "cell_type": "code",
   "execution_count": null,
   "id": "65f127f8",
   "metadata": {},
   "outputs": [],
   "source": []
  },
  {
   "cell_type": "code",
   "execution_count": 15,
   "id": "1f5ba98e",
   "metadata": {},
   "outputs": [
    {
     "data": {
      "text/plain": [
       "{1, 2, 3, 4, 5}"
      ]
     },
     "execution_count": 15,
     "metadata": {},
     "output_type": "execute_result"
    }
   ],
   "source": [
    "a.symmetric_difference(b)"
   ]
  },
  {
   "cell_type": "code",
   "execution_count": 16,
   "id": "0ca49889",
   "metadata": {},
   "outputs": [],
   "source": [
    "a.symmetric_difference_update(b)"
   ]
  },
  {
   "cell_type": "code",
   "execution_count": 17,
   "id": "9120f7a5",
   "metadata": {},
   "outputs": [
    {
     "data": {
      "text/plain": [
       "{1, 2, 3, 4, 5}"
      ]
     },
     "execution_count": 17,
     "metadata": {},
     "output_type": "execute_result"
    }
   ],
   "source": [
    "a"
   ]
  },
  {
   "cell_type": "code",
   "execution_count": 19,
   "id": "72615d30",
   "metadata": {},
   "outputs": [
    {
     "name": "stdout",
     "output_type": "stream",
     "text": [
      "b greater\n"
     ]
    }
   ],
   "source": [
    "a=2\n",
    "b=3\n",
    "if(a>b):\n",
    "    print(\"a greater\")\n",
    "elif(a<b):\n",
    "    print(\"b greater\")\n",
    "else:\n",
    "    print(\"both are equal\")"
   ]
  },
  {
   "cell_type": "code",
   "execution_count": 20,
   "id": "69edcd0d",
   "metadata": {},
   "outputs": [
    {
     "name": "stdout",
     "output_type": "stream",
     "text": [
      "4\n"
     ]
    }
   ],
   "source": [
    "a=2\n",
    "b=4\n",
    "print(b) if(a<b) else print(a)"
   ]
  },
  {
   "cell_type": "code",
   "execution_count": 21,
   "id": "97f2230f",
   "metadata": {},
   "outputs": [
    {
     "name": "stdout",
     "output_type": "stream",
     "text": [
      "1\n",
      "2\n",
      "3\n",
      "4\n",
      "5\n",
      "6\n",
      "7\n",
      "8\n",
      "9\n",
      "10\n"
     ]
    }
   ],
   "source": [
    "n=10\n",
    "i=1\n",
    "while(i<=n):\n",
    "    print(i)\n",
    "    i=i+1"
   ]
  },
  {
   "cell_type": "code",
   "execution_count": 22,
   "id": "d86e3a61",
   "metadata": {},
   "outputs": [
    {
     "name": "stdout",
     "output_type": "stream",
     "text": [
      "0\n",
      "1\n",
      "2\n",
      "3\n",
      "4\n",
      "5\n",
      "6\n",
      "7\n",
      "8\n",
      "9\n"
     ]
    }
   ],
   "source": [
    "n=10\n",
    "for i in range(n):\n",
    "    print(i)"
   ]
  },
  {
   "cell_type": "code",
   "execution_count": 23,
   "id": "43c36f55",
   "metadata": {},
   "outputs": [
    {
     "name": "stdout",
     "output_type": "stream",
     "text": [
      "4\n"
     ]
    }
   ],
   "source": [
    "def mul(a,b):\n",
    "    c=a*b\n",
    "    print(c)\n",
    "mul(2,2)"
   ]
  },
  {
   "cell_type": "code",
   "execution_count": 24,
   "id": "f9939a8e",
   "metadata": {},
   "outputs": [
    {
     "name": "stdout",
     "output_type": "stream",
     "text": [
      "6\n"
     ]
    }
   ],
   "source": [
    "import math\n",
    "x=math.factorial(3)\n",
    "print(x)"
   ]
  },
  {
   "cell_type": "code",
   "execution_count": 27,
   "id": "2e31eea4",
   "metadata": {},
   "outputs": [
    {
     "name": "stdout",
     "output_type": "stream",
     "text": [
      "12\n"
     ]
    }
   ],
   "source": [
    "a=\"Loren imptusm\"\n",
    "b=\"\"\n",
    "for i in range(0,len(a)):\n",
    "    if a[i]!=\" \":\n",
    "        b=b+a[i]\n",
    "print(len(b))"
   ]
  },
  {
   "cell_type": "code",
   "execution_count": 29,
   "id": "e37a6ff4",
   "metadata": {},
   "outputs": [
    {
     "name": "stdout",
     "output_type": "stream",
     "text": [
      "3 2 -1\n",
      "3.00\n",
      "-9.00\n"
     ]
    }
   ],
   "source": [
    "a,b,c=input().split()\n",
    "a=int(a)\n",
    "b=int(b)\n",
    "c=int(c)\n",
    "x=(-b+((b*b-4*a*c)**0.5))/2*a\n",
    "y=(-b-((b*b-4*a*c)**0.5))/2*a\n",
    "print(\"%.2f\"%x)\n",
    "print(\"%.2f\"%y)"
   ]
  },
  {
   "cell_type": "code",
   "execution_count": 31,
   "id": "3cb263db",
   "metadata": {},
   "outputs": [
    {
     "ename": "NameError",
     "evalue": "name 'pi' is not defined",
     "output_type": "error",
     "traceback": [
      "\u001b[0;31m---------------------------------------------------------------------------\u001b[0m",
      "\u001b[0;31mNameError\u001b[0m                                 Traceback (most recent call last)",
      "\u001b[0;32m/var/folders/7k/sc3lh9xn41n5c6p65w91_z240000gp/T/ipykernel_1387/2318896526.py\u001b[0m in \u001b[0;36m<module>\u001b[0;34m\u001b[0m\n\u001b[1;32m      1\u001b[0m \u001b[0;32mimport\u001b[0m \u001b[0mmath\u001b[0m\u001b[0;34m\u001b[0m\u001b[0;34m\u001b[0m\u001b[0m\n\u001b[1;32m      2\u001b[0m \u001b[0mmath\u001b[0m\u001b[0;34m.\u001b[0m\u001b[0mpi\u001b[0m\u001b[0;34m\u001b[0m\u001b[0;34m\u001b[0m\u001b[0m\n\u001b[0;32m----> 3\u001b[0;31m \u001b[0mprint\u001b[0m\u001b[0;34m(\u001b[0m\u001b[0mpi\u001b[0m\u001b[0;34m)\u001b[0m\u001b[0;34m\u001b[0m\u001b[0;34m\u001b[0m\u001b[0m\n\u001b[0m",
      "\u001b[0;31mNameError\u001b[0m: name 'pi' is not defined"
     ]
    }
   ],
   "source": [
    "def add(a,b):\n",
    "    c=a*b\n",
    "    print(c)\n",
    "mul(2,2)"
   ]
  },
  {
   "cell_type": "code",
   "execution_count": 2,
   "id": "55866644",
   "metadata": {},
   "outputs": [],
   "source": [
    "import pickle\n",
    "l=['a','b','c','d']\n",
    "with open('suvanesh.txt',\"wb\")as fh:\n",
    "    pickle.dump(l,fh)"
   ]
  },
  {
   "cell_type": "code",
   "execution_count": 6,
   "id": "9033c4ec",
   "metadata": {},
   "outputs": [
    {
     "name": "stdout",
     "output_type": "stream",
     "text": [
      "['a', 'b', 'c', 'd']\n"
     ]
    }
   ],
   "source": [
    "l2=pickle.load(open(\"suvanesh.txt\",\"rb\"))\n",
    "print(l2)"
   ]
  },
  {
   "cell_type": "code",
   "execution_count": 7,
   "id": "425e19ac",
   "metadata": {},
   "outputs": [],
   "source": [
    "try:\n",
    "    f1=open(\"suvi.txt\",\"r\")\n",
    "except:\n",
    "    f1=open(\"suvi.txt\",\"w\")\n",
    "finally:\n",
    "    f1.close()"
   ]
  },
  {
   "cell_type": "code",
   "execution_count": 10,
   "id": "e09d229e",
   "metadata": {},
   "outputs": [
    {
     "name": "stdout",
     "output_type": "stream",
     "text": [
      "{'name': 'iron man', 'age': 32}\n"
     ]
    }
   ],
   "source": [
    "d={\n",
    "    'name':'iron man',\n",
    "    'age': 32,\n",
    "}\n",
    "print(d)\n"
   ]
  },
  {
   "cell_type": "code",
   "execution_count": 11,
   "id": "9587ed27",
   "metadata": {},
   "outputs": [],
   "source": [
    "pickle.dump(d,open(\"suvi1.txt\",\"wb\"))"
   ]
  },
  {
   "cell_type": "code",
   "execution_count": 12,
   "id": "859d70c3",
   "metadata": {},
   "outputs": [
    {
     "name": "stdout",
     "output_type": "stream",
     "text": [
      "{'name': 'iron man', 'age': 32}\n"
     ]
    }
   ],
   "source": [
    "l=pickle.load(open(\"suvi1.txt\",\"rb\"))\n",
    "print(l)"
   ]
  },
  {
   "cell_type": "code",
   "execution_count": 15,
   "id": "e70c0c22",
   "metadata": {},
   "outputs": [
    {
     "name": "stdout",
     "output_type": "stream",
     "text": [
      "director\n",
      "cameraman\n"
     ]
    }
   ],
   "source": [
    "class film:\n",
    "    person1=\"director\"\n",
    "    person2=\"cameraman\"\n",
    "    person3=\"editor\"\n",
    "    person4=\"story writer\"\n",
    "    person5=\"AD\"\n",
    "f=film()\n",
    "print(f.person1)\n",
    "print(f.person2)"
   ]
  },
  {
   "cell_type": "code",
   "execution_count": null,
   "id": "eb2681a6",
   "metadata": {},
   "outputs": [],
   "source": [
    "s=input()\n",
    "b=len(s)\n",
    "a=[]\n",
    "c=[]\n",
    "for i in range(b):\n",
    "    if(i%2==0):\n",
    "        a.append(s[i])\n",
    "    else:\n",
    "        c.append(s[i])\n",
    "d[]=a+c\n",
    "print(\" \".join(d))"
   ]
  },
  {
   "cell_type": "code",
   "execution_count": 18,
   "id": "6102062c",
   "metadata": {},
   "outputs": [
    {
     "name": "stdout",
     "output_type": "stream",
     "text": [
      "11\n",
      "true\n"
     ]
    }
   ],
   "source": [
    "a=int(input())\n",
    "a=int(a)\n",
    "c=0\n",
    "for i in range(a+1):\n",
    "    if(i>1):\n",
    "       for j in range(2,i):\n",
    "           if(i%j==0):\n",
    "              print('false')\n",
    "              break\n",
    "       else:\n",
    "           print('true')\n",
    "           break"
   ]
  },
  {
   "cell_type": "code",
   "execution_count": 21,
   "id": "f7c38cfa",
   "metadata": {},
   "outputs": [
    {
     "name": "stdout",
     "output_type": "stream",
     "text": [
      "2\n",
      "12\n",
      "24\n",
      "36\n",
      "48\n",
      "60\n",
      "72\n",
      "84\n",
      "96\n",
      "108\n",
      "120\n",
      "132\n",
      "144\n"
     ]
    }
   ],
   "source": [
    "a=int(input())\n",
    "i=1\n",
    "s=0\n",
    "while(i<=12):\n",
    "    s=i*12\n",
    "    print(s)\n",
    "    i=i+1"
   ]
  },
  {
   "cell_type": "code",
   "execution_count": 27,
   "id": "afb7c820",
   "metadata": {},
   "outputs": [
    {
     "name": "stdout",
     "output_type": "stream",
     "text": [
      "10\n",
      "sum: 1 * 1\n",
      "sum: 3 * 2\n",
      "sum: 6 * 6\n",
      "sum: 10 * 24\n",
      "sum: 15 * 120\n",
      "sum: 21 * 720\n",
      "sum: 28 * 5040\n",
      "sum: 36 * 40320\n",
      "sum: 45 * 362880\n",
      "sum: 55 * 3628800\n"
     ]
    }
   ],
   "source": [
    "a=int(input())\n",
    "sum=0\n",
    "product=1\n",
    "i=1\n",
    "while(i<=a):\n",
    "    sum=sum+i\n",
    "    product=product*i\n",
    "    i=i+1\n",
    "    print('sum:',sum,'*',product)\n"
   ]
  },
  {
   "cell_type": "code",
   "execution_count": null,
   "id": "7909ac53",
   "metadata": {},
   "outputs": [],
   "source": []
  }
 ],
 "metadata": {
  "kernelspec": {
   "display_name": "Python 3 (ipykernel)",
   "language": "python",
   "name": "python3"
  },
  "language_info": {
   "codemirror_mode": {
    "name": "ipython",
    "version": 3
   },
   "file_extension": ".py",
   "mimetype": "text/x-python",
   "name": "python",
   "nbconvert_exporter": "python",
   "pygments_lexer": "ipython3",
   "version": "3.9.7"
  }
 },
 "nbformat": 4,
 "nbformat_minor": 5
}
